{
 "cells": [
  {
   "cell_type": "markdown",
   "metadata": {},
   "source": [
    "#### 람다 함수\n",
    "이름이 없는 함수로 정의할 수 있는데 간단한 1회용 작업에 유용\n",
    "\n",
    "함수를 만들지 않고 함수화된 기능만을 불러 사용하고자 할 경우가 있기에 람다 표현식이라고 함\n",
    "\n",
    "- **주의**\n",
    "  - 표현식 안에서 새로운 변수를 선언할 수 없음\n",
    "  - 람다 함수의 반환 값은 변수 없이 *식 한 줄*로 표현"
   ]
  },
  {
   "cell_type": "code",
   "execution_count": 8,
   "metadata": {},
   "outputs": [
    {
     "name": "stdout",
     "output_type": "stream",
     "text": [
      "300\n",
      "100\n",
      "200\n"
     ]
    }
   ],
   "source": [
    "t = (100, 200, 300)\n",
    "print((lambda x, y: x + y)(100, 200))\n",
    "\n",
    "print((lambda x: x[0])(t))\n",
    "print((lambda x: x[1])(t))"
   ]
  },
  {
   "cell_type": "code",
   "execution_count": 11,
   "metadata": {},
   "outputs": [
    {
     "name": "stdout",
     "output_type": "stream",
     "text": [
      "dict_items([('홍길동', '010-1234-5678'), ('강감찬', '010-1234-5679'), ('이순신', '010-1234-5680')])\n",
      "[('강감찬', '010-1234-5679'), ('이순신', '010-1234-5680'), ('홍길동', '010-1234-5678')]\n",
      "[('홍길동', '010-1234-5678'), ('강감찬', '010-1234-5679'), ('이순신', '010-1234-5680')]\n"
     ]
    }
   ],
   "source": [
    "phone_book = {'홍길동': '010-1234-5678', '강감찬': '010-1234-5679', '이순신': '010-1234-5680'}\n",
    "print(phone_book.items())\n",
    "\n",
    "sorted_phone_book1 = sorted(phone_book.items(), key=lambda x: x[0])\n",
    "print(sorted_phone_book1)\n",
    "sorted_phone_book2 = sorted(phone_book.items(), key=lambda x: x[1])\n",
    "print(sorted_phone_book2)"
   ]
  }
 ],
 "metadata": {
  "kernelspec": {
   "display_name": "Python 3",
   "language": "python",
   "name": "python3"
  },
  "language_info": {
   "codemirror_mode": {
    "name": "ipython",
    "version": 3
   },
   "file_extension": ".py",
   "mimetype": "text/x-python",
   "name": "python",
   "nbconvert_exporter": "python",
   "pygments_lexer": "ipython3",
   "version": "3.11.4"
  }
 },
 "nbformat": 4,
 "nbformat_minor": 2
}
