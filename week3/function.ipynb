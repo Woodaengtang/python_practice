{
 "cells": [
  {
   "cell_type": "markdown",
   "metadata": {},
   "source": [
    "##### function\n",
    "반복적으로 사용하는 코드를 묶은 것\n",
    "\n",
    "일을 수행하는 코드의 덩어리"
   ]
  },
  {
   "cell_type": "code",
   "execution_count": 4,
   "metadata": {},
   "outputs": [
    {
     "name": "stdout",
     "output_type": "stream",
     "text": [
      "314.0\n",
      "113.04\n",
      "28.26\n"
     ]
    }
   ],
   "source": [
    "def calculate_area(radius):\n",
    "    area = 3.14 * radius ** 2\n",
    "    return area\n",
    "\n",
    "print(calculate_area(10))\n",
    "print(calculate_area(6))\n",
    "print(calculate_area(3))"
   ]
  },
  {
   "cell_type": "code",
   "execution_count": 8,
   "metadata": {},
   "outputs": [
    {
     "name": "stdout",
     "output_type": "stream",
     "text": [
      "55\n"
     ]
    }
   ],
   "source": [
    "# 다중 input\n",
    "def get_sum(start, end):\n",
    "    s = 0\n",
    "    for i in range(start, end+1):\n",
    "        s += i\n",
    "    return s\n",
    "\n",
    "print(get_sum(1, 10))"
   ]
  },
  {
   "cell_type": "code",
   "execution_count": 10,
   "metadata": {},
   "outputs": [
    {
     "name": "stdout",
     "output_type": "stream",
     "text": [
      "(110, 210)\n",
      "(90, 2100)\n"
     ]
    }
   ],
   "source": [
    "# 다중 output\n",
    "def sort_num(n1, n2):\n",
    "    if n1 < n2:\n",
    "        return n1, n2\n",
    "    else:\n",
    "        return n2, n1\n",
    "\n",
    "print(sort_num(110, 210))\n",
    "print(sort_num(2100, 90))"
   ]
  },
  {
   "cell_type": "markdown",
   "metadata": {},
   "source": [
    "**지역 변수 local variable** : 함수 안에서 생성되는 변수\n",
    "- 함수 외부의 변수(전역 변수)와는 다른 변수이기에 외부에서 참조 불가능"
   ]
  },
  {
   "cell_type": "code",
   "execution_count": 12,
   "metadata": {},
   "outputs": [
    {
     "name": "stdout",
     "output_type": "stream",
     "text": [
      "counter = 200\n",
      "counter = 100\n"
     ]
    }
   ],
   "source": [
    "def print_counter():\n",
    "    counter = 200\n",
    "    print('counter =', counter)\n",
    "\n",
    "counter = 100\n",
    "print_counter()\n",
    "print('counter =', counter)"
   ]
  },
  {
   "cell_type": "markdown",
   "metadata": {},
   "source": [
    "`global`을 이용해서 함수 안에서 외부 변수(전역 변수) 선언 가능"
   ]
  },
  {
   "cell_type": "code",
   "execution_count": 13,
   "metadata": {},
   "outputs": [
    {
     "name": "stdout",
     "output_type": "stream",
     "text": [
      "counter = 200\n",
      "counter = 200\n"
     ]
    }
   ],
   "source": [
    "def print_counter():\n",
    "    global counter\n",
    "    counter = 200\n",
    "    print('counter =', counter)\n",
    "    \n",
    "counter = 100\n",
    "print_counter()\n",
    "print('counter =', counter)"
   ]
  },
  {
   "cell_type": "markdown",
   "metadata": {},
   "source": [
    "#### 디폴트 인자\n",
    "- 함수의 매개변수가 기본값을 가질 수 있음\n",
    "- 디폴트 인자는 *인자가 부족한 경우 기본값을 넣어주는 메커니즘*을 뜻한다."
   ]
  },
  {
   "cell_type": "code",
   "execution_count": 14,
   "metadata": {},
   "outputs": [
    {
     "name": "stdout",
     "output_type": "stream",
     "text": [
      "햄버거 1개, 피클 False, 양파 False\n",
      "햄버거 1개, 피클 True, 양파 True\n"
     ]
    }
   ],
   "source": [
    "def order(num, pickle = True, onion = True):\n",
    "    print('햄버거 {0}개, 피클 {1}, 양파 {2}'.format(num, pickle, onion))\n",
    "    \n",
    "order(1, pickle=False, onion= False)\n",
    "order(1)"
   ]
  },
  {
   "cell_type": "markdown",
   "metadata": {},
   "source": [
    "#### 키워드 인자\n",
    "- 대부분의 인자들은 함수 호출 시에 *위치에 의하여 구별*됨\n",
    "  - 키워드를 명시해 정확하게 인풋으로 넣어줌"
   ]
  },
  {
   "cell_type": "code",
   "execution_count": 16,
   "metadata": {},
   "outputs": [
    {
     "name": "stdout",
     "output_type": "stream",
     "text": [
      "1024\n",
      "100\n",
      "1024\n"
     ]
    }
   ],
   "source": [
    "def power(base, exponent):\n",
    "    return base**exponent\n",
    "\n",
    "print(power(2, 10))\n",
    "print(power(10, 2))\n",
    "print(power(exponent=10, base=2))\n",
    "# print(power(base=10, 2)) 이와 같은 notation은 오류를 일으킴!"
   ]
  },
  {
   "cell_type": "markdown",
   "metadata": {},
   "source": [
    "#### 재귀 함수\n",
    "- 함수 내부에서 자기 자신을 호출하는 함수"
   ]
  },
  {
   "cell_type": "code",
   "execution_count": 17,
   "metadata": {},
   "outputs": [
    {
     "name": "stdout",
     "output_type": "stream",
     "text": [
      "4! = 24\n"
     ]
    }
   ],
   "source": [
    "def factorial(n):\n",
    "    if n <= 1:\n",
    "        return 1\n",
    "    else:\n",
    "        return n*factorial(n-1)\n",
    "\n",
    "print('4! =', factorial(4))"
   ]
  },
  {
   "cell_type": "code",
   "execution_count": 19,
   "metadata": {},
   "outputs": [
    {
     "name": "stdout",
     "output_type": "stream",
     "text": [
      "34\n"
     ]
    }
   ],
   "source": [
    "def fibonacci(n):\n",
    "    if n < 0:\n",
    "        print('잘못된 입력입니다.')\n",
    "    elif n == 1:\n",
    "        return 0\n",
    "    elif n == 2:\n",
    "        return 1\n",
    "    else:\n",
    "        return fibonacci(n - 1) + fibonacci(n - 2)\n",
    "\n",
    "\n",
    "print(fibonacci(10))"
   ]
  }
 ],
 "metadata": {
  "kernelspec": {
   "display_name": "Python 3",
   "language": "python",
   "name": "python3"
  },
  "language_info": {
   "codemirror_mode": {
    "name": "ipython",
    "version": 3
   },
   "file_extension": ".py",
   "mimetype": "text/x-python",
   "name": "python",
   "nbconvert_exporter": "python",
   "pygments_lexer": "ipython3",
   "version": "3.11.4"
  }
 },
 "nbformat": 4,
 "nbformat_minor": 2
}
