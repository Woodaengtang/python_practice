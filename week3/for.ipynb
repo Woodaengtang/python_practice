{
 "cells": [
  {
   "cell_type": "markdown",
   "metadata": {},
   "source": [
    "### 반복문\n",
    "- 횟수 제어 반복문(`for`) : 보통 **횟수를 정해 놓고 반복**\n",
    "  - 반복의 횟수를 미리 아는 경우에 사용\n",
    "- 조건 제어 반복(`while`) : 특정한 조건이 만족되면 **계속 반복**"
   ]
  },
  {
   "cell_type": "code",
   "execution_count": 1,
   "metadata": {},
   "outputs": [
    {
     "name": "stdout",
     "output_type": "stream",
     "text": [
      "0\n",
      "1\n",
      "2\n",
      "3\n",
      "4\n",
      "5\n",
      "6\n",
      "7\n",
      "8\n",
      "9\n",
      "10\n",
      "11\n",
      "12\n",
      "13\n",
      "14\n",
      "15\n",
      "16\n",
      "17\n",
      "18\n",
      "19\n",
      "20\n",
      "21\n",
      "22\n",
      "23\n",
      "24\n",
      "25\n",
      "26\n",
      "27\n",
      "28\n",
      "29\n",
      "30\n",
      "31\n",
      "32\n",
      "33\n",
      "34\n",
      "35\n",
      "36\n",
      "37\n",
      "38\n",
      "39\n",
      "40\n",
      "41\n",
      "42\n",
      "43\n",
      "44\n",
      "45\n",
      "46\n",
      "47\n",
      "48\n",
      "49\n",
      "50\n",
      "51\n",
      "52\n",
      "53\n",
      "54\n",
      "55\n",
      "56\n",
      "57\n",
      "58\n",
      "59\n",
      "60\n",
      "61\n",
      "62\n",
      "63\n",
      "64\n",
      "65\n",
      "66\n",
      "67\n",
      "68\n",
      "69\n",
      "70\n",
      "71\n",
      "72\n",
      "73\n",
      "74\n",
      "75\n",
      "76\n",
      "77\n",
      "78\n",
      "79\n",
      "80\n",
      "81\n",
      "82\n",
      "83\n",
      "84\n",
      "85\n",
      "86\n",
      "87\n",
      "88\n",
      "89\n",
      "90\n",
      "91\n",
      "92\n",
      "93\n",
      "94\n",
      "95\n",
      "96\n",
      "97\n",
      "98\n",
      "99\n"
     ]
    }
   ],
   "source": [
    "for i in range(100):\n",
    "    print(i)"
   ]
  },
  {
   "cell_type": "code",
   "execution_count": 3,
   "metadata": {},
   "outputs": [
    {
     "name": "stdout",
     "output_type": "stream",
     "text": [
      "i는 : 1\n",
      "i는 : 2\n",
      "i는 : 3\n",
      "i는 : 4\n",
      "i는 : 5\n"
     ]
    }
   ],
   "source": [
    "# 리스트 자료형에 대해서 for loop\n",
    "for i in [1, 2, 3, 4, 5]:\n",
    "    print(\"i는 : {}\".format(i))"
   ]
  },
  {
   "cell_type": "code",
   "execution_count": 6,
   "metadata": {},
   "outputs": [
    {
     "name": "stdout",
     "output_type": "stream",
     "text": [
      "9 X 1 = 9\n",
      "9 X 2 = 18\n",
      "9 X 3 = 27\n",
      "9 X 4 = 36\n",
      "9 X 5 = 45\n",
      "9 X 6 = 54\n",
      "9 X 7 = 63\n",
      "9 X 8 = 72\n",
      "9 X 9 = 81\n"
     ]
    }
   ],
   "source": [
    "for i in [1, 2, 3, 4, 5, 6, 7, 8, 9]:\n",
    "     print('9 X', i,'=', 9*i)"
   ]
  },
  {
   "cell_type": "code",
   "execution_count": 7,
   "metadata": {},
   "outputs": [
    {
     "name": "stdout",
     "output_type": "stream",
     "text": [
      "i는 H\n",
      "i는 e\n",
      "i는 l\n",
      "i는 l\n",
      "i는 o\n"
     ]
    }
   ],
   "source": [
    "for i in 'Hello':\n",
    "    print(\"i는\",i)"
   ]
  },
  {
   "cell_type": "markdown",
   "metadata": {},
   "source": [
    "#### range()\n",
    "- `range(n)` 함수는 0, 1, 2, ..., n-1까지의 숫자열을 반환\n",
    "- 반복할 때마다 변수 `i`에 이 값들을 대입하면서 문장을 반복"
   ]
  },
  {
   "cell_type": "code",
   "execution_count": 8,
   "metadata": {},
   "outputs": [
    {
     "name": "stdout",
     "output_type": "stream",
     "text": [
      "[0, 1, 2, 3, 4, 5, 6, 7, 8, 9]\n"
     ]
    }
   ],
   "source": [
    "print(list(range(10)))"
   ]
  },
  {
   "cell_type": "markdown",
   "metadata": {},
   "source": [
    "- `range(start, stop, step)`\n",
    "  - start에서 시작해서 stop-1까지 step 간격으로 정수 생성"
   ]
  },
  {
   "cell_type": "code",
   "execution_count": 12,
   "metadata": {},
   "outputs": [
    {
     "name": "stdout",
     "output_type": "stream",
     "text": [
      "i는 1\n",
      "i는 4\n",
      "i는 7\n",
      "i는 10\n",
      "i는 13\n",
      "i는 16\n",
      "i는 19\n",
      "i는 22\n",
      "i는 25\n",
      "i는 28\n",
      "i는 31\n",
      "i는 34\n",
      "i는 37\n",
      "i는 40\n",
      "i는 43\n",
      "i는 46\n",
      "i는 49\n"
     ]
    }
   ],
   "source": [
    "for i in range(1, 50, 3):\n",
    "    print('i는', i)"
   ]
  },
  {
   "cell_type": "code",
   "execution_count": 11,
   "metadata": {},
   "outputs": [
    {
     "name": "stdout",
     "output_type": "stream",
     "text": [
      "i는 50\n",
      "i는 47\n",
      "i는 44\n",
      "i는 41\n",
      "i는 38\n",
      "i는 35\n",
      "i는 32\n",
      "i는 29\n",
      "i는 26\n",
      "i는 23\n",
      "i는 20\n",
      "i는 17\n",
      "i는 14\n",
      "i는 11\n",
      "i는 8\n",
      "i는 5\n",
      "i는 2\n"
     ]
    }
   ],
   "source": [
    "for i in range(50, 0, -3):\n",
    "    print('i는', i)"
   ]
  },
  {
   "cell_type": "code",
   "execution_count": 13,
   "metadata": {},
   "outputs": [
    {
     "name": "stdout",
     "output_type": "stream",
     "text": [
      "전진\n"
     ]
    }
   ],
   "source": [
    "while True:\n",
    "    light = input('신호등 색상을 입력하시오 : ')\n",
    "    if light == 'green':\n",
    "        break\n",
    "    \n",
    "print(\"전진\")"
   ]
  },
  {
   "cell_type": "markdown",
   "metadata": {},
   "source": [
    "- `break`의 경우 해당 loop문을 탈출\n",
    "- `continue`의 경우 다음 iteration으로 넘어감"
   ]
  }
 ],
 "metadata": {
  "kernelspec": {
   "display_name": "Python 3",
   "language": "python",
   "name": "python3"
  },
  "language_info": {
   "codemirror_mode": {
    "name": "ipython",
    "version": 3
   },
   "file_extension": ".py",
   "mimetype": "text/x-python",
   "name": "python",
   "nbconvert_exporter": "python",
   "pygments_lexer": "ipython3",
   "version": "3.11.4"
  }
 },
 "nbformat": 4,
 "nbformat_minor": 2
}
