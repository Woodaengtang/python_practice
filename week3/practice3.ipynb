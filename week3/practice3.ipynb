{
 "cells": [
  {
   "cell_type": "code",
   "execution_count": 4,
   "metadata": {},
   "outputs": [
    {
     "name": "stdout",
     "output_type": "stream",
     "text": [
      "5!은 120이다.\n"
     ]
    }
   ],
   "source": [
    "# Q1\n",
    "# 사용자로부터 임의의 정수 n을 입력 받아 팩토리얼(!)을 계산\n",
    "\n",
    "U = int(input('정수를 입력하시오:'))\n",
    "fact = 1\n",
    "for i in range(1, U + 1):\n",
    "    fact *= i\n",
    "    \n",
    "print(str(U)+'!은 '+str(fact)+'이다.')"
   ]
  },
  {
   "cell_type": "code",
   "execution_count": 6,
   "metadata": {},
   "outputs": [
    {
     "name": "stdout",
     "output_type": "stream",
     "text": [
      "** 로그인 성공 **\n"
     ]
    }
   ],
   "source": [
    "# Q2\n",
    "# 사용자로부터 암호를 입력 받아 로그인 하기\n",
    "\n",
    "while True:\n",
    "    password = input('암호를 입력하시오:')\n",
    "    if (password == 'pythonisfun'):\n",
    "        print('** 로그인 성공 **')\n",
    "        break"
   ]
  },
  {
   "cell_type": "code",
   "execution_count": null,
   "metadata": {},
   "outputs": [
    {
     "name": "stdout",
     "output_type": "stream",
     "text": [
      "주급은 525000.0\n"
     ]
    }
   ],
   "source": [
    "# Q3\n",
    "# 주단위로 봉급을 받는 아르바이트생에 대해, 현재 시급(rate)과 일한\n",
    "# 시간(hour)을 입력하면 주급을 계산해주는 함수 weeklyPay(rate, hour)를 만들고 이\n",
    "# 함수를 호출하여 주급을 출력하는 프로그램을 작성, 입력받은 값을 r와 h 변수에\n",
    "# 넣어서 키워드 인자로 함수 weeklyPay()를 호출.\n",
    "\n",
    "U = int(input('시급을 입력하시오:'))\n",
    "H = int(input('근무 시간을 입력하시오:'))\n",
    "if (H > 30):\n",
    "    oH = H - 30\n",
    "    H -= oH\n",
    "    pay = U*H + U*oH*1.5\n",
    "else:\n",
    "    pay = U*H\n",
    "\n",
    "print('주급은', str(pay))"
   ]
  },
  {
   "cell_type": "code",
   "execution_count": 17,
   "metadata": {},
   "outputs": [
    {
     "name": "stdout",
     "output_type": "stream",
     "text": [
      "[27, 90, 30, 87, 56]\n",
      "27\n",
      "[27, 90, 30, 87, 56]\n",
      "27\n",
      "[27, 90, 30, 87, 56]\n",
      "27\n",
      "[27, 90, 30, 87, 56]\n",
      "90\n",
      "[27, 90, 30, 87, 56]\n",
      "illegal method\n"
     ]
    }
   ],
   "source": [
    "# Q4\n",
    "# [27, 90, 30, 87, 56]와 같은 리스트에서 최댓값이나 최솟값을 찾는 getMinMax() \n",
    "# 함수를 만드려고 한다. 이 함수는 리스트를 첫 번째 매개변수로 하고, 두 번째\n",
    "# 매개변수는 method라는 이름을 가지는 키워드 인자를 받는다고 하자. 이 method에\n",
    "# 주어지는 인자가 'max'이면 최댓값, 'min'이면 최솟값을 찾아 출력하도록 하는 것이다\n",
    "\n",
    "def getMinMax(list, str):\n",
    "    if str=='max':\n",
    "        return max(list)\n",
    "    elif str=='min':\n",
    "        return min(list)\n",
    "    else:\n",
    "        return 'illegal method'\n",
    "\n",
    "\n",
    "list = [27, 90, 30, 87, 56]\n",
    "\n",
    "while True:\n",
    "    print(list)\n",
    "    get_str = input('최댓값을 원하면 max, 최솟값을 원하면 min을 입력하시오:')\n",
    "    output = getMinMax(list, get_str)\n",
    "    print(output)\n",
    "    if output == 'illegal method':\n",
    "        break"
   ]
  },
  {
   "cell_type": "code",
   "execution_count": 26,
   "metadata": {},
   "outputs": [
    {
     "name": "stdout",
     "output_type": "stream",
     "text": [
      "최대인구: 서울 인구: 9765 천명\n",
      "최소인구: 광주 인구: 1501 천명\n",
      "리스트 도시 평균 인구:  3838.4\n"
     ]
    }
   ],
   "source": [
    "#  Q5\n",
    "# 최대 인구를 가진 도시와 최소 인구를 가진 도시를 찾고, 전체 도시들의 평균 \n",
    "# 인구를 계산하여 세 가지 정보를 출력하는 코드 작성하기\n",
    "\n",
    "city = [('서울', 9765), ('부산', 3441), ('인천', 2954), ('광주', 1501), ('대전', 1531)]\n",
    "\n",
    "def get_cities_info(list):\n",
    "    abs = 0\n",
    "    max_city = list[0][0]\n",
    "    max_value = list[0][1]\n",
    "    min_city = list[0][0]\n",
    "    min_value = list[0][1]\n",
    "    \n",
    "    for i in list:\n",
    "        temp_max = i[1]\n",
    "        temp_min = i[1]\n",
    "        abs += i[1]\n",
    "        \n",
    "        if temp_max > max_value:\n",
    "            max_city = i[0]        \n",
    "            max_value = i[1]\n",
    "            \n",
    "        if temp_min < min_value:\n",
    "            min_city = i[0]        \n",
    "            min_value = i[1]\n",
    "        \n",
    "    return max_city, max_value, min_city, min_value, abs/len(list)\n",
    "\n",
    "max_city, max_value, min_city, min_value, abs = get_cities_info(city)\n",
    "\n",
    "print('최대인구:', max_city, '인구:', max_value, '천명')\n",
    "print('최소인구:', min_city, '인구:', min_value, '천명')\n",
    "print('리스트 도시 평균 인구: ', abs)   "
   ]
  }
 ],
 "metadata": {
  "kernelspec": {
   "display_name": "Python 3",
   "language": "python",
   "name": "python3"
  },
  "language_info": {
   "codemirror_mode": {
    "name": "ipython",
    "version": 3
   },
   "file_extension": ".py",
   "mimetype": "text/x-python",
   "name": "python",
   "nbconvert_exporter": "python",
   "pygments_lexer": "ipython3",
   "version": "3.11.4"
  }
 },
 "nbformat": 4,
 "nbformat_minor": 2
}
