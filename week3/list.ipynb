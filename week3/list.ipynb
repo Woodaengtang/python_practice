{
 "cells": [
  {
   "cell_type": "markdown",
   "metadata": {},
   "source": [
    "#### 리스트\n",
    "- 여러 개의 데이터를 하나로 묶어서 저장하는 것이 필요\n",
    "- 파이썬: 리스트list와 딕셔너리dictionary를 이용하여 여러 개의 데이터를 한꺼번에 저장\n",
    "- 리스트: 하나의 변수에 여러 개의 값을 [] 표시로 담음"
   ]
  },
  {
   "cell_type": "code",
   "execution_count": 1,
   "metadata": {},
   "outputs": [
    {
     "name": "stdout",
     "output_type": "stream",
     "text": [
      "[178, 173, 166, 164, 176]\n"
     ]
    }
   ],
   "source": [
    "heights = [178, 173, 166, 164, 176]\n",
    "print(heights)"
   ]
  },
  {
   "cell_type": "markdown",
   "metadata": {},
   "source": [
    "- 변수에 리스트 저장: [ ]안에 항목들을 기입하고 변수 선언\n",
    "- 공백 리스트도 선언 가능\n",
    "  - 공백 리스트에는 `.append(항목)` 또는 `+` 연산자로 항목을 추가"
   ]
  },
  {
   "cell_type": "code",
   "execution_count": 4,
   "metadata": {},
   "outputs": [
    {
     "name": "stdout",
     "output_type": "stream",
     "text": [
      "['V', 'Jungkook', 'Jimin']\n",
      "['V']\n",
      "['V', 'Jin', 'Jungkook', 'Jimin']\n"
     ]
    }
   ],
   "source": [
    "bts = ['V', 'Jungkook', 'Jimin']\n",
    "print(bts)\n",
    "\n",
    "bts = []\n",
    "bts.append('V')\n",
    "print(bts)\n",
    "bts.append('Jin')\n",
    "bts.append('Jungkook')\n",
    "bts.append('Jimin')\n",
    "print(bts)"
   ]
  },
  {
   "cell_type": "code",
   "execution_count": 6,
   "metadata": {},
   "outputs": [
    {
     "name": "stdout",
     "output_type": "stream",
     "text": [
      "[0, 1, 2, 3, 4]\n",
      "[0, 1, 2, 3, 4]\n",
      "[1, 2, 3, 4]\n",
      "[1, 3]\n",
      "[0, 2, 4]\n"
     ]
    }
   ],
   "source": [
    "print(list(range(5)))\n",
    "print(list(range(0, 5)))\n",
    "print(list(range(1, 5)))\n",
    "print(list(range(1, 5, 2)))\n",
    "print(list(range(0, 5, 2)))"
   ]
  },
  {
   "cell_type": "markdown",
   "metadata": {},
   "source": [
    "#### 리스트 연산\n",
    "덧셈, 곱셈 가능"
   ]
  },
  {
   "cell_type": "code",
   "execution_count": 6,
   "metadata": {},
   "outputs": [
    {
     "name": "stdout",
     "output_type": "stream",
     "text": [
      "['V', 'J-Hope', 'RM', 'Jungkook', 'Jin']\n"
     ]
    }
   ],
   "source": [
    "bts = ['V', 'J-Hope'] + ['RM', 'Jungkook', 'Jin']\n",
    "print(bts)"
   ]
  },
  {
   "cell_type": "code",
   "execution_count": 2,
   "metadata": {},
   "outputs": [
    {
     "name": "stdout",
     "output_type": "stream",
     "text": [
      "[0, 1, 2, 0, 1, 2, 0, 1, 2]\n"
     ]
    }
   ],
   "source": [
    "mystery = [0, 1, 2] * 3\n",
    "print(mystery)"
   ]
  },
  {
   "cell_type": "code",
   "execution_count": 7,
   "metadata": {},
   "outputs": [
    {
     "data": {
      "text/plain": [
       "True"
      ]
     },
     "execution_count": 7,
     "metadata": {},
     "output_type": "execute_result"
    }
   ],
   "source": [
    "'V' in bts"
   ]
  },
  {
   "cell_type": "markdown",
   "metadata": {},
   "source": [
    "원소 in 리스트 : 리스트에 원소가 있는지 boolean으로 반환"
   ]
  },
  {
   "cell_type": "markdown",
   "metadata": {},
   "source": [
    "- 리스트 안에 수치값이 있을 경우 내장함수 (len(), max(), min(), sum() 등) 사용 가능\n",
    "- any(): 리스트에 0이 아닌 원소가 하나라도 있을 경우 True 반환, 아닌 경우 False 반환\n",
    "  - 0과 ' '(공백문자열만으로 이루어진 리스트)는 any() 함수가 False를 반환\n",
    "- list(range()): range() 함수가 생성한 값을 리스트에 바로 넣을 수 있음"
   ]
  },
  {
   "cell_type": "code",
   "execution_count": 9,
   "metadata": {},
   "outputs": [
    {
     "name": "stdout",
     "output_type": "stream",
     "text": [
      "5\n",
      "700\n",
      "200\n",
      "2100\n"
     ]
    }
   ],
   "source": [
    "n_list = [200, 700, 500, 300, 400]\n",
    "print(len(n_list))\n",
    "print(max(n_list))\n",
    "print(min(n_list))\n",
    "print(sum(n_list))"
   ]
  },
  {
   "cell_type": "markdown",
   "metadata": {},
   "source": [
    "#### 리스트 항목 접근\n",
    "- **인덱스** : 정수를 사용해 리스트 내 데이터 추출"
   ]
  },
  {
   "cell_type": "code",
   "execution_count": 11,
   "metadata": {},
   "outputs": [
    {
     "name": "stdout",
     "output_type": "stream",
     "text": [
      "A\n",
      "C\n",
      "B\n",
      "E\n"
     ]
    }
   ],
   "source": [
    "letters = ['A', 'B', 'C', 'D', 'E']\n",
    "print(letters[0])\n",
    "print(letters[2])\n",
    "print(letters[1])\n",
    "print(letters[4])"
   ]
  },
  {
   "cell_type": "markdown",
   "metadata": {},
   "source": [
    "#### 슬라이싱\n",
    "- 슬라이싱slicing : 리스트 내 여러 요소를 범위로 선택하여 리스트 반환\n",
    "  - 콜론 뒤만 숫자가 있는 경우: 맨 앞부터 숫자 직전 인덱스 (2=3-1)까지 전부 반환"
   ]
  },
  {
   "cell_type": "code",
   "execution_count": 15,
   "metadata": {},
   "outputs": [
    {
     "name": "stdout",
     "output_type": "stream",
     "text": [
      "['A', 'B', 'C']\n",
      "['D', 'E']\n",
      "['A', 'B', 'C', 'D', 'E']\n",
      "['A', 'C', 'E']\n"
     ]
    }
   ],
   "source": [
    "print(letters[:3])\n",
    "print(letters[3:])\n",
    "print(letters[:])\n",
    "print(letters[::2])     # 2 스텝 만큼 뛰어가며 반환"
   ]
  },
  {
   "cell_type": "code",
   "execution_count": 29,
   "metadata": {},
   "outputs": [
    {
     "name": "stdout",
     "output_type": "stream",
     "text": [
      "1\n",
      "['A', 'B', 'C', 'D', 'E', 'F']\n",
      "2\n",
      "['B', 'C', 'D', 'E', 'F', 'A']\n",
      "['B', 'C', 'D', 'F', 'A']\n",
      "['A', 'B', 'C', 'D', 'F']\n",
      "['A', 'F', 'D', 'C', 'B']\n"
     ]
    }
   ],
   "source": [
    "# 리스트 메소드\n",
    "letters = ['A', 'B', 'C', 'D', 'E']\n",
    "print(letters.index('B'))\n",
    "letters.append('F')\n",
    "print(letters)\n",
    "letters.append('A')\n",
    "print(letters.count('A'))\n",
    "letters.remove('A')\n",
    "print(letters)\n",
    "\n",
    "letters.pop(3)\n",
    "print(letters)\n",
    "sorted_letters = sorted(letters)\n",
    "print(sorted_letters)\n",
    "letters.reverse()\n",
    "print(letters)"
   ]
  },
  {
   "cell_type": "markdown",
   "metadata": {},
   "source": [
    "#### 항목 삭제\n",
    "- `remove()`, `pop()`, `del` 등 명령어 사용\n",
    "- `remove()` 메소드는 리스트에서 지정된 항목을 삭제"
   ]
  },
  {
   "cell_type": "code",
   "execution_count": 33,
   "metadata": {},
   "outputs": [
    {
     "name": "stdout",
     "output_type": "stream",
     "text": [
      "['V', 'J-Hope', 'Suga']\n",
      "Suga\n",
      "['V', 'J-Hope']\n"
     ]
    }
   ],
   "source": [
    "bts = ['V', 'J-Hope', 'Suga', 'Jungkook']\n",
    "bts.remove('Jungkook')\n",
    "print(bts)\n",
    "\n",
    "last_members = bts.pop()\n",
    "print(last_members)\n",
    "print(bts)"
   ]
  },
  {
   "cell_type": "markdown",
   "metadata": {},
   "source": [
    "### 리스트 객체 생성과 참조\n",
    "- 파이썬 리스트의 저장 및 작동 원리\n",
    "  - 파이썬은 컴퓨터 메모리에 리스트를 저장한 후에, 리스트의 주소를 alist 변수에 저장"
   ]
  },
  {
   "cell_type": "code",
   "execution_count": 2,
   "metadata": {},
   "outputs": [
    {
     "name": "stdout",
     "output_type": "stream",
     "text": [
      "['Kim', 'Choi', 'Lee', 'Hong']\n"
     ]
    }
   ],
   "source": [
    "alist = ['Kim', 'Park', 'Lee', 'Hong']\n",
    "blist = alist\n",
    "blist[1] = 'Choi'\n",
    "print(alist)        # blist의 인덱스 1의 항목을 수정했지만 alist 또한 수정된 모습을 볼 수 있음"
   ]
  },
  {
   "cell_type": "markdown",
   "metadata": {},
   "source": [
    "- **참조 reference** : : 변수의 이름이 실제 존재하는 메모리 상의 객체를 가리키는 것\n",
    "  - `id()` 함수를 통해서 메모리에 올라온 객체의 고유한 식별번호 조회 가능\n",
    "  - `id(alist)`,`id(blist)`를 프린트하면 두 객체의 아이디가 같다는 것을 확인 가능"
   ]
  },
  {
   "cell_type": "code",
   "execution_count": 3,
   "metadata": {},
   "outputs": [
    {
     "name": "stdout",
     "output_type": "stream",
     "text": [
      "2316159092480\n",
      "2316159092480\n"
     ]
    }
   ],
   "source": [
    "print(id(alist))\n",
    "print(id(blist))"
   ]
  },
  {
   "cell_type": "markdown",
   "metadata": {},
   "source": [
    "### 리스트 복제\n",
    "  - 내용 복사 후 동기화가 되지 않은 새로운 리스트를 생성 시 `list()` 함수 사용"
   ]
  },
  {
   "cell_type": "code",
   "execution_count": 7,
   "metadata": {},
   "outputs": [
    {
     "name": "stdout",
     "output_type": "stream",
     "text": [
      "['Kim', 'Park', 'Lee', 'Hong']\n",
      "2316159188672\n",
      "2316158185664\n"
     ]
    }
   ],
   "source": [
    "alist = ['Kim', 'Park', 'Lee', 'Hong']\n",
    "blist = list(alist)\n",
    "# blist = alist[:]  이렇게 구현해도 된다!\n",
    "blist[1] = 'Choi'\n",
    "print(alist)        # blist의 인덱스 1의 항목을 수정했지만 alist 또한 수정된 모습을 볼 수 있음\n",
    "print(id(alist))\n",
    "print(id(blist))    # alist와 blist의 id가 다른 모습을 볼 수 있음"
   ]
  },
  {
   "cell_type": "markdown",
   "metadata": {},
   "source": [
    "### 리스트 탐색\n",
    "  - `index()` : 특정 항목이 리스트이 어떤 인덱스에 있는지 확인하는 함수\n",
    "  - `for` + 리스트 : 리스트의 모든 항목을 한 번씩 방문"
   ]
  },
  {
   "cell_type": "code",
   "execution_count": 9,
   "metadata": {},
   "outputs": [
    {
     "name": "stdout",
     "output_type": "stream",
     "text": [
      "1\n",
      "V\n",
      "J-Hope\n",
      "Suga\n",
      "Jungkook\n"
     ]
    }
   ],
   "source": [
    "bts = ['V', 'J-Hope', 'Suga', 'Jungkook']\n",
    "print(bts.index('J-Hope'))\n",
    "\n",
    "bts = ['V', 'J-Hope', 'Suga', 'Jungkook']\n",
    "for member in bts:\n",
    "    print(member)"
   ]
  },
  {
   "cell_type": "markdown",
   "metadata": {},
   "source": [
    "### 리스트 정렬\n",
    "  - `sorting` : 리스트 안의 항목들을 크기 순으로 나열\n",
    "  - 문자열일 경우 사전 순서대로 정렬됨"
   ]
  },
  {
   "cell_type": "code",
   "execution_count": 17,
   "metadata": {},
   "outputs": [
    {
     "name": "stdout",
     "output_type": "stream",
     "text": [
      "[1, 1, 2, 2, 3, 5, 5, 7, 7, 8, 8, 9]\n",
      "['J-Hope', 'Jungkook', 'Suga', 'V']\n",
      "[9, 8, 8, 7, 7, 5, 5, 3, 2, 2, 1, 1]\n",
      "[1, 1, 2, 2, 3, 5, 5, 7, 7, 8, 8, 9]\n",
      "[9, 8, 8, 7, 7, 5, 5, 3, 2, 2, 1, 1]\n"
     ]
    }
   ],
   "source": [
    "numbers = [9, 8, 5, 7, 2, 5, 7, 8, 1, 2, 1, 3]\n",
    "numbers.sort()\n",
    "print(numbers)\n",
    "\n",
    "bts = ['V', 'J-Hope', 'Suga', 'Jungkook']\n",
    "bts.sort()\n",
    "print(bts)\n",
    "\n",
    "numbers.sort(reverse=True)\n",
    "print(numbers)\n",
    "\n",
    "numbers = [9, 8, 5, 7, 2, 5, 7, 8, 1, 2, 1, 3]\n",
    "new_nums = sorted(numbers)\n",
    "print(new_nums)\n",
    "numbers = [9, 8, 5, 7, 2, 5, 7, 8, 1, 2, 1, 3]\n",
    "new_nums = sorted(numbers, reverse=True)\n",
    "print(new_nums)"
   ]
  },
  {
   "cell_type": "markdown",
   "metadata": {},
   "source": [
    "### 리스트 함축\n",
    "`list comprehension`"
   ]
  },
  {
   "cell_type": "code",
   "execution_count": 28,
   "metadata": {},
   "outputs": [
    {
     "name": "stdout",
     "output_type": "stream",
     "text": [
      "[0, 1, 2, 3, 4, 5, 6, 7, 8, 9]\n",
      "[0, 1, 4, 9, 16, 25, 36, 49, 64, 81]\n",
      "['H', 'E', 'L', 'L', 'O', ' ', 'W', 'O', 'R', 'L', 'D', '!']\n",
      "['W', 'T', 'T', 'P', 'W']\n",
      "[0, 2, 4, 6, 8]\n",
      "[0, 4, 16, 36, 64]\n"
     ]
    }
   ],
   "source": [
    "print([x for x in range(10)])\n",
    "\n",
    "print([x*x for x in range(10)])\n",
    "\n",
    "st = 'Hello World!'\n",
    "print([x.upper() for x in st])\n",
    "\n",
    "a = ['Welcome', 'to', 'the', 'python', 'world']\n",
    "print([x[0].upper() for x in a])\n",
    "\n",
    "print([x for x in range(10) if x % 2 == 0])\n",
    "\n",
    "print([x**2 for x in range(10) if x % 2 == 0])"
   ]
  },
  {
   "cell_type": "code",
   "execution_count": 32,
   "metadata": {},
   "outputs": [
    {
     "name": "stdout",
     "output_type": "stream",
     "text": [
      "['123445', '67839']\n",
      "[100, 200, 300, 400]\n",
      "[499, 23948, 929]\n"
     ]
    }
   ],
   "source": [
    "s = ['Hello', '123445', 'World', '67839']\n",
    "numbers = [x for x in s if x.isdigit()]\n",
    "print(numbers)\n",
    "\n",
    "print([int(x) for x in input('정수를 여러개 입력하세요 : ').split()])\n",
    "\n",
    "print([int(x) for x in input('정수를 여러개 입력하세요 : ').split() if x.isdigit()])"
   ]
  }
 ],
 "metadata": {
  "kernelspec": {
   "display_name": "Python 3",
   "language": "python",
   "name": "python3"
  },
  "language_info": {
   "codemirror_mode": {
    "name": "ipython",
    "version": 3
   },
   "file_extension": ".py",
   "mimetype": "text/x-python",
   "name": "python",
   "nbconvert_exporter": "python",
   "pygments_lexer": "ipython3",
   "version": "3.11.4"
  }
 },
 "nbformat": 4,
 "nbformat_minor": 2
}
