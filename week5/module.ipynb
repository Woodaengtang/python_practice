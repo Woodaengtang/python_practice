{
 "cells": [
  {
   "cell_type": "markdown",
   "metadata": {},
   "source": [
    "### 모듈 Module\n",
    "- 파이썬 함수나 변수 또는 클래스들을 모아 놓은 스크립트 파일\n",
    "- 현재 스크립트나 대화창에서 모듈을 불러오는 명령\n",
    "``` python\n",
    "import 모듈이름1 [, 모듈이름2, ...]\n",
    "```"
   ]
  },
  {
   "cell_type": "markdown",
   "metadata": {},
   "source": [
    "#### 파이썬 표준 라이브러리 Python Standard Library\n",
    "파이썬 설치와 함께 제공되는 모듈\n",
    "\n",
    "- 문자열과 텍스트 처리, 이진 데이터 처리, 날짜와 시간 처리, 배열 등의 자료형 처리, 수치 연산과 수학 함수, 파일과 디렉토리 접근, 데이터 압축, 그래픽 등을 위한 100여가지 이상의 모듈이 표준 라이브러리들로 제공"
   ]
  },
  {
   "cell_type": "code",
   "execution_count": 2,
   "metadata": {},
   "outputs": [
    {
     "name": "stdout",
     "output_type": "stream",
     "text": [
      "2024-04-16 10:01:35.450311\n"
     ]
    }
   ],
   "source": [
    "import datetime\n",
    "print(datetime.datetime.now())"
   ]
  },
  {
   "cell_type": "code",
   "execution_count": 5,
   "metadata": {},
   "outputs": [
    {
     "name": "stdout",
     "output_type": "stream",
     "text": [
      "2024-04-16\n",
      "2021\n",
      "9\n",
      "14\n",
      "2024\n",
      "4\n",
      "16\n"
     ]
    }
   ],
   "source": [
    "today = datetime.date.today()\n",
    "print(today)\n",
    "the_day = datetime.date(2021, 9, 14)\n",
    "print(the_day.year)\n",
    "print(the_day.month)\n",
    "print(the_day.day)\n",
    "print(today.year)\n",
    "print(today.month)\n",
    "print(today.day)"
   ]
  },
  {
   "cell_type": "markdown",
   "metadata": {},
   "source": [
    "- **함수를 저장해 놓은 모듈** : 파이썬 파일의 형태로 함수 저장\n",
    "``` python\n",
    "# filename : my_func.py\n",
    "def mf_print(msg, n = 1):\n",
    "    print(msg * n)\n",
    "```\n",
    "\n",
    "``` python\n",
    "import my_func\n",
    "my_func.mf_print(\"my_func was imported\", 3)\n",
    "```"
   ]
  },
  {
   "cell_type": "code",
   "execution_count": 7,
   "metadata": {},
   "outputs": [
    {
     "name": "stdout",
     "output_type": "stream",
     "text": [
      "my_func was imported my_func was imported my_func was imported \n"
     ]
    }
   ],
   "source": [
    "import my_func\n",
    "my_func.mf_print('my_func was imported ', 3)"
   ]
  },
  {
   "cell_type": "code",
   "execution_count": 10,
   "metadata": {},
   "outputs": [
    {
     "name": "stdout",
     "output_type": "stream",
     "text": [
      "[alias][alias][alias][alias][alias]\n"
     ]
    }
   ],
   "source": [
    "import my_func as mf\n",
    "mf.mf_print('[alias]', 5)"
   ]
  },
  {
   "cell_type": "code",
   "execution_count": 12,
   "metadata": {},
   "outputs": [
    {
     "name": "stdout",
     "output_type": "stream",
     "text": [
      "no module nameno module name\n"
     ]
    }
   ],
   "source": [
    "from my_func import mf_print\n",
    "mf_print('no module name', 2)"
   ]
  },
  {
   "cell_type": "code",
   "execution_count": 14,
   "metadata": {},
   "outputs": [
    {
     "name": "stdout",
     "output_type": "stream",
     "text": [
      "no module name no module name no module name \n"
     ]
    }
   ],
   "source": [
    "from my_func import *\n",
    "mf_print('no module name ', 3)"
   ]
  }
 ],
 "metadata": {
  "kernelspec": {
   "display_name": "Python 3",
   "language": "python",
   "name": "python3"
  },
  "language_info": {
   "codemirror_mode": {
    "name": "ipython",
    "version": 3
   },
   "file_extension": ".py",
   "mimetype": "text/x-python",
   "name": "python",
   "nbconvert_exporter": "python",
   "pygments_lexer": "ipython3",
   "version": "3.11.4"
  }
 },
 "nbformat": 4,
 "nbformat_minor": 2
}
