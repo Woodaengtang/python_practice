{
 "cells": [
  {
   "cell_type": "markdown",
   "metadata": {},
   "source": [
    "## format() 메소드\n",
    "문자열을 가지런히 출력하는 출력 방법\n",
    "\n",
    "`{}` : *placeholder*\n",
    "    format() 메소드의 인자로 들어오는 값이 출력되는 **위치를 지정**하는 역할"
   ]
  },
  {
   "cell_type": "code",
   "execution_count": 2,
   "metadata": {},
   "outputs": [
    {
     "name": "stdout",
     "output_type": "stream",
     "text": [
      "Hello Python!\n",
      "I like Python and Java\n"
     ]
    }
   ],
   "source": [
    "print('{} Python!'.format('Hello'))\n",
    "print('I like {} and {}'.format(\"Python\", \"Java\"))"
   ]
  },
  {
   "cell_type": "code",
   "execution_count": 4,
   "metadata": {},
   "outputs": [
    {
     "name": "stdout",
     "output_type": "stream",
     "text": [
      "I like Python and Java\n",
      "I like Java and Java\n",
      "I like Python, Python and Java\n"
     ]
    }
   ],
   "source": [
    "print(\"I like {0} and {1}\".format(\"Python\", \"Java\"))\n",
    "print(\"I like {1} and {1}\".format(\"Python\", \"Java\"))\n",
    "print(\"I like {0}, {0} and {1}\".format(\"Python\", \"Java\"))"
   ]
  },
  {
   "cell_type": "markdown",
   "metadata": {},
   "source": [
    "- `{0:.nf}` 소수점 아래 n째자리 숫자까지 출력\n",
    "  - `f`는 부동소수점을 의미한다.\n",
    "- `{0:.2f}` $\\rightarrow$ 소수점 아래 둘째자리 숫자를 출력"
   ]
  },
  {
   "cell_type": "code",
   "execution_count": 2,
   "metadata": {},
   "outputs": [
    {
     "name": "stdout",
     "output_type": "stream",
     "text": [
      "     3.142\n"
     ]
    }
   ],
   "source": [
    "print('{0:10.3f}'.format(3.1415926535))"
   ]
  },
  {
   "cell_type": "markdown",
   "metadata": {},
   "source": [
    "- 정수 `d` : 출력 시 차지할 칸의 수를 지정"
   ]
  },
  {
   "cell_type": "code",
   "execution_count": 3,
   "metadata": {},
   "outputs": [
    {
     "name": "stdout",
     "output_type": "stream",
     "text": [
      "  2    4     8\n",
      "  4   16    64\n",
      "  6   36   216\n",
      "  8   64   512\n",
      " 10  100  1000\n"
     ]
    }
   ],
   "source": [
    "for i in range(2, 11, 2):\n",
    "    print('{0:3d} {1:4d} {2:5d}'.format(i, i*i, i*i*i))"
   ]
  }
 ],
 "metadata": {
  "kernelspec": {
   "display_name": "Python 3",
   "language": "python",
   "name": "python3"
  },
  "language_info": {
   "codemirror_mode": {
    "name": "ipython",
    "version": 3
   },
   "file_extension": ".py",
   "mimetype": "text/x-python",
   "name": "python",
   "nbconvert_exporter": "python",
   "pygments_lexer": "ipython3",
   "version": "3.11.4"
  }
 },
 "nbformat": 4,
 "nbformat_minor": 2
}
