{
 "cells": [
  {
   "cell_type": "markdown",
   "metadata": {},
   "source": [
    "## format() 메소드\n",
    "문자열을 가지런히 출력하는 출력 방법\n",
    "\n",
    "`{}` : *placeholder*\n",
    "    format() 메소드의 인자로 들어오는 값이 출력되는 **위치를 지정**하는 역할"
   ]
  },
  {
   "cell_type": "code",
   "execution_count": 2,
   "metadata": {},
   "outputs": [
    {
     "name": "stdout",
     "output_type": "stream",
     "text": [
      "Hello Python!\n",
      "I like Python and Java\n"
     ]
    }
   ],
   "source": [
    "print('{} Python!'.format('Hello'))\n",
    "print('I like {} and {}'.format(\"Python\", \"Java\"))"
   ]
  },
  {
   "cell_type": "code",
   "execution_count": 4,
   "metadata": {},
   "outputs": [
    {
     "name": "stdout",
     "output_type": "stream",
     "text": [
      "I like Python and Java\n",
      "I like Java and Java\n",
      "I like Python, Python and Java\n"
     ]
    }
   ],
   "source": [
    "print(\"I like {0} and {1}\".format(\"Python\", \"Java\"))\n",
    "print(\"I like {1} and {1}\".format(\"Python\", \"Java\"))\n",
    "print(\"I like {0}, {0} and {1}\".format(\"Python\", \"Java\"))"
   ]
  }
 ],
 "metadata": {
  "kernelspec": {
   "display_name": "Python 3",
   "language": "python",
   "name": "python3"
  },
  "language_info": {
   "codemirror_mode": {
    "name": "ipython",
    "version": 3
   },
   "file_extension": ".py",
   "mimetype": "text/x-python",
   "name": "python",
   "nbconvert_exporter": "python",
   "pygments_lexer": "ipython3",
   "version": "3.11.4"
  }
 },
 "nbformat": 4,
 "nbformat_minor": 2
}
