{
 "cells": [
  {
   "cell_type": "markdown",
   "metadata": {},
   "source": [
    "### 튜플\n",
    "- 리스트와 매우 유사\n",
    "- 하지만, *튜플의 내용은 한 번 지정되면 변경 불가능* → **불변속성immutable** 데이터 형\n",
    "- *리스트의 내용은 자유롭게 변경 가능* → **가변속성mutable** 데이터 형"
   ]
  },
  {
   "cell_type": "code",
   "execution_count": 3,
   "metadata": {},
   "outputs": [
    {
     "name": "stdout",
     "output_type": "stream",
     "text": [
      "('red', 'green', 'blue')\n"
     ]
    }
   ],
   "source": [
    "colors = ('red', 'green', 'blue')\n",
    "print(colors)"
   ]
  },
  {
   "cell_type": "code",
   "execution_count": 5,
   "metadata": {},
   "outputs": [
    {
     "name": "stdout",
     "output_type": "stream",
     "text": [
      "(1, 2, 3, 4, 5)\n"
     ]
    }
   ],
   "source": [
    "numbers = (1, 2, 3, 4, 5)\n",
    "print(numbers)"
   ]
  },
  {
   "cell_type": "code",
   "execution_count": 6,
   "metadata": {},
   "outputs": [
    {
     "name": "stdout",
     "output_type": "stream",
     "text": [
      "1\n",
      "(2, 3, 4)\n",
      "(1, 2, 3, 4, 5, 1, 2, 3, 4, 5)\n",
      "(1, 2, 3, 4, 5, 1, 2, 3, 4, 5)\n"
     ]
    }
   ],
   "source": [
    "t1 = (1, 2, 3, 4, 5)\n",
    "print(t1[0])\n",
    "print(t1[1:4])\n",
    "t2 = t1 + t1\n",
    "t3 = t1 * 2\n",
    "print(t2)\n",
    "print(t3)"
   ]
  },
  {
   "cell_type": "markdown",
   "metadata": {},
   "source": [
    "**함수의 반환 값을 튜플 형태로 받을 수 있음**"
   ]
  },
  {
   "cell_type": "code",
   "execution_count": 7,
   "metadata": {},
   "outputs": [
    {
     "name": "stdout",
     "output_type": "stream",
     "text": [
      "원의 넓이는 50.26548245743669이고 원의 둘레는25.132741228718345이다.\n"
     ]
    }
   ],
   "source": [
    "import math\n",
    "\n",
    "def calCircle(r):\n",
    "    # 반지름이 r인 원의 넓이와 둘레를 동시에 반환하는 함수 (area, circum)\n",
    "    area = math.pi * r ** 2\n",
    "    circum = math.pi * 2 * r\n",
    "    return area, circum\n",
    "\n",
    "radius = float(input('원의 반지름을 입력하시오: '))\n",
    "(a, c) = calCircle(radius)\n",
    "print('원의 넓이는 ' + str(a) + '이고 원의 둘레는' + str(c) + '이다.')"
   ]
  },
  {
   "cell_type": "markdown",
   "metadata": {},
   "source": [
    "**튜플의 활용** : 임시 변수 없는 데이터 교환 가능\n",
    "- 두 변수 값을 서로 교환 시 temp를 사용해서 교환해야 함\n",
    "- *튜플을 활용해 임시변수 없이 간단히 데이터를 교환할 수 있음*"
   ]
  },
  {
   "cell_type": "code",
   "execution_count": 8,
   "metadata": {},
   "outputs": [
    {
     "name": "stdout",
     "output_type": "stream",
     "text": [
      "(10, 20, 30)\n",
      "(40, 50, 60)\n",
      "(40, 50, 60)\n",
      "(10, 20, 30)\n"
     ]
    }
   ],
   "source": [
    "a = (10, 20, 30)\n",
    "b = (40, 50, 60)\n",
    "print(a)\n",
    "print(b)\n",
    " \n",
    "a, b = b, a\n",
    "print(a)\n",
    "print(b)"
   ]
  }
 ],
 "metadata": {
  "kernelspec": {
   "display_name": "Python 3",
   "language": "python",
   "name": "python3"
  },
  "language_info": {
   "codemirror_mode": {
    "name": "ipython",
    "version": 3
   },
   "file_extension": ".py",
   "mimetype": "text/x-python",
   "name": "python",
   "nbconvert_exporter": "python",
   "pygments_lexer": "ipython3",
   "version": "3.11.4"
  }
 },
 "nbformat": 4,
 "nbformat_minor": 2
}
