{
 "cells": [
  {
   "cell_type": "code",
   "execution_count": 2,
   "metadata": {},
   "outputs": [
    {
     "name": "stdout",
     "output_type": "stream",
     "text": [
      "{'Park'}\n"
     ]
    }
   ],
   "source": [
    "# Q1\n",
    "# 파티에 참석한 사람들의 명단이 리스트 형태로 변수 partyA와 partyB에 각각\n",
    "# 저장되어 있을 때, 두 파티에 모두 참석한 사람을 출력하는 코드 작성하기\n",
    "\n",
    "partyA = ['Park', 'Kim', 'Lee', 'Oh', 'Eom']\n",
    "partyB = ['Park', 'Choi']\n",
    "\n",
    "set_partyA = set(partyA)\n",
    "set_partyB = set(partyB)\n",
    "\n",
    "print('2개의 파티에 모두 참석한 사람은 다음과 같습니다.')\n",
    "print(set_partyA & set_partyB)"
   ]
  },
  {
   "cell_type": "code",
   "execution_count": 5,
   "metadata": {},
   "outputs": [
    {
     "name": "stdout",
     "output_type": "stream",
     "text": [
      "이름 : 김은지\n",
      "연락처 : 010-2230-6540\n"
     ]
    }
   ],
   "source": [
    "# Q2\n",
    "# 다음과 같이 튜플로 주어진 학번/이름/전화번호 정보를 딕셔너리로 변환하고,\n",
    "# 사용자가 입력으로 학번을 입력하면 해당 학생의 이름과 전화번호를 출력하는 코드\n",
    "# 작성하기\n",
    "\n",
    "student_tup = (('211101', '최성훈', '010-1234-4500'), ('211102', '김은지', '010-2230-6540'), ('211103', '이세은', '010-3232-7788'))\n",
    "\n",
    "student_dict_num = {}\n",
    "student_dict_phone = {}\n",
    "for i in student_tup:\n",
    "    student_dict_num[i[0]] = i[1]\n",
    "    student_dict_phone[i[0]] = i[2]\n",
    "\n",
    "std_number = input('학번을 입력하시오 :')\n",
    "print('이름 : ' + student_dict_num[std_number])\n",
    "print('연락처 : ' + student_dict_phone[std_number])"
   ]
  },
  {
   "cell_type": "code",
   "execution_count": 12,
   "metadata": {},
   "outputs": [
    {
     "name": "stdout",
     "output_type": "stream",
     "text": [
      "[10, 10, 20, 20, 20, 30, 30, 30, 30, 40, 50]\n",
      "{10: 2, 20: 3, 30: 4, 40: 1, 50: 1}\n"
     ]
    }
   ],
   "source": [
    "# Q3\n",
    "# 다음과 같이 리스트로 주어진 숫자들로부터 2번이상 나오는 숫자의 정보와\n",
    "# 횟수를 짝으로 출력하는 코드 작성하기\n",
    "lst = [10, 30, 40, 50, 30, 30, 20, 20, 20, 10, 30]\n",
    "s_lst = sorted(lst)\n",
    "print(s_lst)\n",
    "\n",
    "prev_comp = None\n",
    "num_info = {}\n",
    "for comp in s_lst:\n",
    "    if prev_comp == comp:\n",
    "        num_info[comp] += 1\n",
    "    else:\n",
    "        prev_comp = comp\n",
    "        num_info[comp] = 1\n",
    "\n",
    "print(num_info)"
   ]
  },
  {
   "cell_type": "code",
   "execution_count": 3,
   "metadata": {},
   "outputs": [
    {
     "name": "stdout",
     "output_type": "stream",
     "text": [
      "Tesla Model S 주행 중!\n",
      "Model S 충전 중. 남은 배터리 수명 : 24\n"
     ]
    }
   ],
   "source": [
    "# Q4\n",
    "# 자동차(Car) 클래스를 만들고, 이를 상속받는 전기자동차(ElectricCar) 클래스를\n",
    "# 정의하기. 전기자동차 클래스는 자동차 클래스의 모든 기능을 가지면서 추가로\n",
    "# 배터리 수명(battery_life)을 속성으로 가짐\n",
    "\n",
    "class Car:\n",
    "    def __init__(self, brand, model):\n",
    "        self.brand = brand\n",
    "        self.model = model\n",
    "        \n",
    "    def drive(self):\n",
    "        print('{0} {1} 주행 중!'.format(self.brand, self.model))\n",
    "        \n",
    "class ElectricCar(Car):\n",
    "    def __init__(self, brand, model, battery_life):\n",
    "        super().__init__(brand, model)\n",
    "        self.battery_life = battery_life\n",
    "        \n",
    "    def charge(self):\n",
    "        print('{0} 충전 중. 남은 배터리 수명 : {1}'.format(self.model, self.battery_life))\n",
    "\n",
    "tesla = ElectricCar('Tesla', 'Model S', 24)\n",
    "tesla.drive()\n",
    "tesla.charge()"
   ]
  },
  {
   "cell_type": "code",
   "execution_count": 4,
   "metadata": {},
   "outputs": [
    {
     "name": "stdout",
     "output_type": "stream",
     "text": [
      "야옹\n",
      "참새가 날아다닙니다.\n"
     ]
    }
   ],
   "source": [
    "class Animal:\n",
    "    def __init__(self, species):\n",
    "        self.species = species\n",
    "    \n",
    "    def make_sound(self):\n",
    "        pass\n",
    "    \n",
    "class Mammal(Animal):\n",
    "    def __init__(self, species, leg_count):\n",
    "        super().__init__(species)\n",
    "        self.leg_count = leg_count\n",
    "    \n",
    "    def make_sound(self):\n",
    "        if self.species == '고양이':\n",
    "            print('야옹')\n",
    "\n",
    "class Bird(Animal):\n",
    "    def __init__(self, species):\n",
    "        super().__init__(species)\n",
    "    \n",
    "    def fly(self):\n",
    "        print('{}가 날아다닙니다.'.format(self.species))\n",
    "        \n",
    "cat = Mammal('고양이', 4)\n",
    "cat.make_sound()\n",
    "\n",
    "sparrow = Bird('참새')\n",
    "sparrow.fly()"
   ]
  }
 ],
 "metadata": {
  "kernelspec": {
   "display_name": "Python 3",
   "language": "python",
   "name": "python3"
  },
  "language_info": {
   "codemirror_mode": {
    "name": "ipython",
    "version": 3
   },
   "file_extension": ".py",
   "mimetype": "text/x-python",
   "name": "python",
   "nbconvert_exporter": "python",
   "pygments_lexer": "ipython3",
   "version": "3.11.4"
  }
 },
 "nbformat": 4,
 "nbformat_minor": 2
}
