{
 "cells": [
  {
   "cell_type": "markdown",
   "metadata": {},
   "source": [
    "# 객체지향 프로그래밍\n",
    "\n",
    "다양한 객체를 class로 미리 정의해두고 이 객체들이 프로그램 상에서 상호작용하면서 원하는 작업을 수행하는 문제해결 방식\n",
    "\n",
    "리스트는 일종의 class\n",
    "\n",
    "인스턴스 객체\n",
    "- 여러 리스트를 생성하면 각각의 객체들은 \"리스트\"라는 클래스의 틀을 지키면서 서로 다른 실제 값을 가지고 있음\n",
    "- 이미 살펴본 자료형, 함수, 모듈은 모두 객체"
   ]
  },
  {
   "cell_type": "code",
   "execution_count": 1,
   "metadata": {},
   "outputs": [
    {
     "name": "stdout",
     "output_type": "stream",
     "text": [
      "['cat', 'dog', 'lion', 'tiger']\n"
     ]
    }
   ],
   "source": [
    "animals = ['lion', 'tiger', 'cat', 'dog']\n",
    "animals.sort()\n",
    "print(animals)"
   ]
  },
  {
   "cell_type": "code",
   "execution_count": 2,
   "metadata": {},
   "outputs": [
    {
     "name": "stdout",
     "output_type": "stream",
     "text": [
      "['cat', 'dog', 'lion', 'tiger', 'rabbit']\n",
      "['cat', 'dog', 'lion', 'rabbit', 'tiger']\n"
     ]
    }
   ],
   "source": [
    "animals.append('rabbit')\n",
    "print(animals)\n",
    "animals.sort()\n",
    "print(animals)"
   ]
  },
  {
   "cell_type": "code",
   "execution_count": 3,
   "metadata": {},
   "outputs": [
    {
     "name": "stdout",
     "output_type": "stream",
     "text": [
      "3\n",
      "7\n",
      "2\n",
      "-4\n",
      "5\n",
      "11\n",
      "4\n",
      "-4\n"
     ]
    }
   ],
   "source": [
    "class Calculator:\n",
    "    def __init__(self):\n",
    "        self.result = 0\n",
    "        \n",
    "    def add(self, num):\n",
    "        self.result += num\n",
    "        return self.result\n",
    "    \n",
    "    def sub(self, num):\n",
    "        self.result -= num\n",
    "        return self.result\n",
    "\n",
    "\n",
    "Cal1 = Calculator()\n",
    "Cal2 = Calculator()\n",
    "\n",
    "print(Cal1.add(3))\n",
    "print(Cal1.add(4))\n",
    "print(Cal1.sub(5))\n",
    "print(Cal1.sub(6))\n",
    "\n",
    "print(Cal2.add(5))\n",
    "print(Cal2.add(6))\n",
    "print(Cal2.sub(7))\n",
    "print(Cal2.sub(8))"
   ]
  }
 ],
 "metadata": {
  "kernelspec": {
   "display_name": "Python 3",
   "language": "python",
   "name": "python3"
  },
  "language_info": {
   "codemirror_mode": {
    "name": "ipython",
    "version": 3
   },
   "file_extension": ".py",
   "mimetype": "text/x-python",
   "name": "python",
   "nbconvert_exporter": "python",
   "pygments_lexer": "ipython3",
   "version": "3.11.4"
  }
 },
 "nbformat": 4,
 "nbformat_minor": 2
}
