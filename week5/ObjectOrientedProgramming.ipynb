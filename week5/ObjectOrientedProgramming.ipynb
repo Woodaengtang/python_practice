{
 "cells": [
  {
   "cell_type": "markdown",
   "metadata": {},
   "source": [
    "# 객체지향 프로그래밍\n",
    "\n",
    "다양한 객체를 class로 미리 정의해두고 이 객체들이 프로그램 상에서 상호작용하면서 원하는 작업을 수행하는 문제해결 방식\n",
    "\n",
    "리스트는 일종의 class\n",
    "\n",
    "인스턴스 객체\n",
    "- 여러 리스트를 생성하면 각각의 객체들은 \"리스트\"라는 클래스의 틀을 지키면서 서로 다른 실제 값을 가지고 있음\n",
    "- 이미 살펴본 자료형, 함수, 모듈은 모두 객체"
   ]
  },
  {
   "cell_type": "code",
   "execution_count": 1,
   "metadata": {},
   "outputs": [
    {
     "name": "stdout",
     "output_type": "stream",
     "text": [
      "['lion', 'tiger', 'cat', 'dog']\n",
      "['cat', 'dog', 'lion', 'tiger']\n"
     ]
    }
   ],
   "source": [
    "animals = ['lion', 'tiger', 'cat', 'dog']\n",
    "print(animals)\n",
    "animals.sort()\n",
    "print(animals)"
   ]
  },
  {
   "cell_type": "code",
   "execution_count": 2,
   "metadata": {},
   "outputs": [
    {
     "name": "stdout",
     "output_type": "stream",
     "text": [
      "['cat', 'dog', 'lion', 'tiger', 'rabbit']\n",
      "['cat', 'dog', 'lion', 'rabbit', 'tiger']\n"
     ]
    }
   ],
   "source": [
    "animals.append('rabbit')\n",
    "print(animals)\n",
    "animals.sort()\n",
    "print(animals)"
   ]
  },
  {
   "cell_type": "markdown",
   "metadata": {},
   "source": [
    "- **메소드 method**\n",
    "  - 특정한 클래스에 속한 객체들이 사용할 수 있는 함수들을 해당 클래스의 메소드라고 함\n",
    "- **객체**\n",
    "  - 아래 코드의 `Cal1`, `Cal2` 객체가 각각의 역할을 수행한다."
   ]
  },
  {
   "cell_type": "code",
   "execution_count": 3,
   "metadata": {},
   "outputs": [
    {
     "name": "stdout",
     "output_type": "stream",
     "text": [
      "3\n",
      "7\n",
      "2\n",
      "-4\n",
      "5\n",
      "11\n",
      "4\n",
      "-4\n"
     ]
    }
   ],
   "source": [
    "class Calculator:\n",
    "    def __init__(self):\n",
    "        self.result = 0\n",
    "        \n",
    "    def add(self, num):\n",
    "        self.result += num\n",
    "        return self.result\n",
    "    \n",
    "    def sub(self, num):\n",
    "        self.result -= num\n",
    "        return self.result\n",
    "\n",
    "\n",
    "Cal1 = Calculator()\n",
    "Cal2 = Calculator()\n",
    "\n",
    "print(Cal1.add(3))\n",
    "print(Cal1.add(4))\n",
    "print(Cal1.sub(5))\n",
    "print(Cal1.sub(6))\n",
    "\n",
    "print(Cal2.add(5))\n",
    "print(Cal2.add(6))\n",
    "print(Cal2.sub(7))\n",
    "print(Cal2.sub(8))"
   ]
  },
  {
   "cell_type": "markdown",
   "metadata": {},
   "source": [
    "- **생성자constructor**\n",
    "  - `__init__` 메서드는 setdata 메서드와 이름만 다르고 모든 게 동일\n",
    "  - 단, 메서드 이름을 `__init__`로 했기 때문에 생성자로 인식되어 객체가 생성되는 시점에 자동으로 호출된다는 차이가 있음"
   ]
  },
  {
   "cell_type": "code",
   "execution_count": 3,
   "metadata": {},
   "outputs": [
    {
     "name": "stdout",
     "output_type": "stream",
     "text": [
      "6\n"
     ]
    }
   ],
   "source": [
    "class FourCal:\n",
    "    def __init__(self, first, second):\n",
    "        self.first = first\n",
    "        self.second = second\n",
    "        \n",
    "    def setdata(self, first, second):\n",
    "        self.first = first\n",
    "        self.second = second\n",
    "        \n",
    "    def add(self):\n",
    "        result = self.first + self.second\n",
    "        return result\n",
    "    \n",
    "a = FourCal(4, 2)\n",
    "print(a.add())"
   ]
  },
  {
   "cell_type": "markdown",
   "metadata": {},
   "source": [
    "- **클래스의 상속 Inheritance**\n",
    "  - 어떤 클래스를 만들 때 다른 클래스의 기능을 물려받을 수 있게 만드는 것\n",
    "  - *Ex)* `FourCal` 클래스에 $a^b$ 값을 구할 수 있는 기능을 추가하는 상황\n",
    "    - 앞에서 `FourCal` 클래스는 이미 만들어 놓았으므로 `FourCal` 클래스를 상속하는 `MoreFourCal` 클래스는 다음과 같이 간단하게 만들 수 있음"
   ]
  },
  {
   "cell_type": "code",
   "execution_count": 5,
   "metadata": {},
   "outputs": [
    {
     "name": "stdout",
     "output_type": "stream",
     "text": [
      "9\n"
     ]
    }
   ],
   "source": [
    "class MoreFourCal(FourCal):\n",
    "    pass\n",
    "\n",
    "C = MoreFourCal(3, 6)\n",
    "print(C.add())"
   ]
  },
  {
   "cell_type": "markdown",
   "metadata": {},
   "source": [
    "- 상속: 기존 클래스를 변경하지 않고 기능을 추가하거나 기존 기능을 변경 할 때 사용\n",
    "- 기존 클래스가 라이브러리 형태로 제공되거나 수정이 허용되지 않는 상황이라면 상속을 사용해야 함"
   ]
  },
  {
   "cell_type": "code",
   "execution_count": 11,
   "metadata": {},
   "outputs": [
    {
     "name": "stdout",
     "output_type": "stream",
     "text": [
      "16\n",
      "0.5\n"
     ]
    }
   ],
   "source": [
    "class FourCal:\n",
    "    def __init__(self, first, second):\n",
    "        self.first = first\n",
    "        self.second = second\n",
    "        \n",
    "    def setdata(self, first, second):\n",
    "        self.first = first\n",
    "        self.second = second\n",
    "        \n",
    "    def add(self):\n",
    "        result = self.first + self.second\n",
    "        return result\n",
    "    \n",
    "    def div(self):\n",
    "        result = self.first / self.second\n",
    "        return result\n",
    "    \n",
    "class MoreFourCal(FourCal):\n",
    "    def pow(self):\n",
    "        return self.first ** self.second\n",
    "\n",
    "C = MoreFourCal(2, 4)\n",
    "print(C.pow())\n",
    "print(C.div())"
   ]
  },
  {
   "cell_type": "markdown",
   "metadata": {},
   "source": [
    "- 메서드 오버라이딩 **Overriding**\n",
    "  - 같은 이름의 메서드이면서 내용을 새로 정의하고 싶은 상황"
   ]
  },
  {
   "cell_type": "code",
   "execution_count": 12,
   "metadata": {},
   "outputs": [
    {
     "name": "stdout",
     "output_type": "stream",
     "text": [
      "1\n",
      "0\n"
     ]
    }
   ],
   "source": [
    "class MoreFourCal(FourCal):\n",
    "    def pow(self):\n",
    "        return self.first ** self.second\n",
    "    \n",
    "    def div(self):\n",
    "        if self.second == 0:\n",
    "            return 0\n",
    "        else:\n",
    "            return self.first / self.second\n",
    "    \n",
    "C = MoreFourCal(2, 0)\n",
    "print(C.pow())\n",
    "print(C.div())"
   ]
  }
 ],
 "metadata": {
  "kernelspec": {
   "display_name": "Python 3",
   "language": "python",
   "name": "python3"
  },
  "language_info": {
   "codemirror_mode": {
    "name": "ipython",
    "version": 3
   },
   "file_extension": ".py",
   "mimetype": "text/x-python",
   "name": "python",
   "nbconvert_exporter": "python",
   "pygments_lexer": "ipython3",
   "version": "3.11.4"
  }
 },
 "nbformat": 4,
 "nbformat_minor": 2
}
