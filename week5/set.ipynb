{
 "cells": [
  {
   "cell_type": "markdown",
   "metadata": {},
   "source": [
    "### 집합\n",
    "- 집합set 역시 수학의 집합과 비슷하며, 튜플과 달리 **순서가 없는 자료형**\n",
    "- 특히 **동일한 값을 가지는 항목의 중복이 허용되지 않는다는 특징**이 있으며, **교집합, 합집합, 차집합, 대칭차집합 등의 다양한 집합 연산 수행 가능**"
   ]
  },
  {
   "cell_type": "code",
   "execution_count": 1,
   "metadata": {},
   "outputs": [
    {
     "name": "stdout",
     "output_type": "stream",
     "text": [
      "{1, 2, 4, 5}\n"
     ]
    }
   ],
   "source": [
    "numbers = {1, 2, 4, 5, 2}\n",
    "print(numbers)"
   ]
  },
  {
   "cell_type": "markdown",
   "metadata": {},
   "source": [
    "- **리스트로부터 집합을 생성** → **요소가 중복되면 자동으로 중복된 요소를 제거**"
   ]
  },
  {
   "cell_type": "code",
   "execution_count": 2,
   "metadata": {},
   "outputs": [
    {
     "name": "stdout",
     "output_type": "stream",
     "text": [
      "{1, 2, 3}\n"
     ]
    }
   ],
   "source": [
    "list1 = [1, 2, 3, 1, 2]\n",
    "print(set(list1))"
   ]
  },
  {
   "cell_type": "markdown",
   "metadata": {},
   "source": [
    "- **문자열으로부터 집합을 생성** → **각 문자들이 하나의 요소가 됨**"
   ]
  },
  {
   "cell_type": "code",
   "execution_count": 9,
   "metadata": {},
   "outputs": [
    {
     "name": "stdout",
     "output_type": "stream",
     "text": [
      "{'o', '!', 'W', 'e', ' ', 'H', 'l', 'd', 'r'}\n"
     ]
    }
   ],
   "source": [
    "str1 = 'Hello World!'\n",
    "print(set(str1))"
   ]
  },
  {
   "cell_type": "markdown",
   "metadata": {},
   "source": [
    "- `set()` : 비어 있는 집합 생성"
   ]
  },
  {
   "cell_type": "code",
   "execution_count": 4,
   "metadata": {},
   "outputs": [
    {
     "name": "stdout",
     "output_type": "stream",
     "text": [
      "set()\n"
     ]
    }
   ],
   "source": [
    "nums = set()\n",
    "print(nums)"
   ]
  },
  {
   "cell_type": "markdown",
   "metadata": {},
   "source": [
    "### 집합 항목에 접근하는 연산\n",
    "- `in` 연산자\n",
    "\n",
    "**주의**: 집합의 항목은 **순서가 없기 때문에 인덱스를 가지고 접근 불가** → `for` 반복문을 이용하여 **각 항목들에 접근은 가능**\n",
    "\n",
    "**주의**: 항목들이 **출력되는 순서는 입력된 순서와 다를 수도 있음** → 정렬된 순서로 항목을 출력하기를 원한다면 `stored()` 함수 사용"
   ]
  },
  {
   "cell_type": "code",
   "execution_count": 7,
   "metadata": {},
   "outputs": [
    {
     "name": "stdout",
     "output_type": "stream",
     "text": [
      "집합 안에 1이 있습니다.\n",
      "1 가 집합 내에 있습니다.\n",
      "2 가 집합 내에 있습니다.\n",
      "4 가 집합 내에 있습니다.\n",
      "5 가 집합 내에 있습니다.\n",
      "7 가 집합 내에 있습니다.\n",
      "8 가 집합 내에 있습니다.\n",
      "9 가 집합 내에 있습니다.\n"
     ]
    }
   ],
   "source": [
    "numbers = {2, 1, 4, 7, 8, 2, 4, 1, 5, 9}\n",
    "if 1 in numbers:\n",
    "    print('집합 안에 1이 있습니다.')\n",
    "    \n",
    "for i in numbers:\n",
    "    print(i,'가 집합 내에 있습니다.')"
   ]
  },
  {
   "cell_type": "markdown",
   "metadata": {},
   "source": [
    "- 집합의 요소에는 인덱스가 없기 때문에 인덱싱이나 슬라이싱 연산은 의미가 없음\n",
    "- `add()` : 요소 추가\n",
    "- `remove()` : 요소 삭제"
   ]
  },
  {
   "cell_type": "code",
   "execution_count": 8,
   "metadata": {},
   "outputs": [
    {
     "name": "stdout",
     "output_type": "stream",
     "text": [
      "{1, 2, 3}\n",
      "{1, 2, 3, 9}\n",
      "{2, 3, 9}\n"
     ]
    }
   ],
   "source": [
    "nums = {3, 2, 1}\n",
    "print(nums)\n",
    "nums.add(9)\n",
    "print(nums)\n",
    "nums.remove(1)\n",
    "print(nums)"
   ]
  },
  {
   "cell_type": "markdown",
   "metadata": {},
   "source": [
    "### 집합 연산\n",
    "- 집합 비교 연산\n",
    "  - 2개의 집합이 서로 같은 지 검사\n",
    "  - `==`과 `=!` 연산자를 사용\n",
    "  - `<` 연산자와 `<=` 연산자를 사용하면 집합이 진부분집합인지, 부분집합인지를 검사 가능"
   ]
  },
  {
   "cell_type": "code",
   "execution_count": 14,
   "metadata": {},
   "outputs": [
    {
     "name": "stdout",
     "output_type": "stream",
     "text": [
      "False\n",
      "True\n",
      "False\n",
      "True\n",
      "False\n",
      "True\n"
     ]
    }
   ],
   "source": [
    "A = {1, 2, 3}\n",
    "B = {1, 2, 3}\n",
    "print(A == B)\n",
    "\n",
    "A = {1, 2, 3, 4, 5}\n",
    "B = {1, 2, 3}\n",
    "print(A <= B)\n",
    "print(A >= B)\n",
    "print(A < B)\n",
    "print(A > B)\n",
    "print(A == B)\n",
    "print(A != B)"
   ]
  },
  {
   "cell_type": "markdown",
   "metadata": {},
   "source": [
    "집합에 대해서도 `len()`, `max()`, `min()`, `stored()`, `sum()` 등의 메소드는 사용 가능"
   ]
  },
  {
   "cell_type": "code",
   "execution_count": 15,
   "metadata": {},
   "outputs": [
    {
     "name": "stdout",
     "output_type": "stream",
     "text": [
      "5\n",
      "7\n",
      "1\n",
      "[1, 3, 4, 5, 7]\n",
      "20\n"
     ]
    }
   ],
   "source": [
    "a_set = {1, 5, 4, 3, 7, 4}\n",
    "print(len(a_set))       # 중복을 제외하면 5개\n",
    "print(max(a_set))\n",
    "print(min(a_set))\n",
    "print(sorted(a_set))    # 항목을 정렬해서 리스트로 만든다. 집합을 정렬했으므로 중복은 제거한 모습을 볼 수 있다.\n",
    "print(sum(a_set))"
   ]
  },
  {
   "cell_type": "code",
   "execution_count": 16,
   "metadata": {},
   "outputs": [
    {
     "name": "stdout",
     "output_type": "stream",
     "text": [
      "False\n",
      "True\n"
     ]
    }
   ],
   "source": [
    "a_set = {1, 0, 2, 3, 4}\n",
    "print(all(a_set))   # a_set이 모두 True인지를 판별\n",
    "print(any(a_set))   # a_set 중 0이 있는지를 판별"
   ]
  },
  {
   "cell_type": "markdown",
   "metadata": {},
   "source": [
    "- **합집합**: `|` 연산자나 `union()` 메소드를 사용\n",
    "- **교집합**: `&` 연산자나 `intersection()` 메소드를 사용\n",
    "- **차집합**: `-` 연산자나 `difference()` 메소드를 사용\n",
    "- **대칭차집합**: `^` 연산자나 `symmetric_difference()` 메소드를 사용"
   ]
  },
  {
   "cell_type": "code",
   "execution_count": 20,
   "metadata": {},
   "outputs": [
    {
     "name": "stdout",
     "output_type": "stream",
     "text": [
      "{1, 2, 3, 4, 5}\n",
      "{1, 2, 3, 4, 5}\n",
      "{3}\n",
      "{3}\n",
      "{1, 2}\n",
      "{1, 2}\n",
      "{1, 2, 4, 5}\n",
      "{1, 2, 4, 5}\n"
     ]
    }
   ],
   "source": [
    "A = {1, 2, 3}\n",
    "B = {4, 5, 3}\n",
    "\n",
    "print(A | B)\n",
    "print(A.union(B))\n",
    "\n",
    "print(A & B)\n",
    "print(A.intersection(B))\n",
    "\n",
    "print(A - B)\n",
    "print(A.difference(B))\n",
    "\n",
    "print(A ^ B)\n",
    "print(A.symmetric_difference(B))"
   ]
  }
 ],
 "metadata": {
  "kernelspec": {
   "display_name": "Python 3",
   "language": "python",
   "name": "python3"
  },
  "language_info": {
   "codemirror_mode": {
    "name": "ipython",
    "version": 3
   },
   "file_extension": ".py",
   "mimetype": "text/x-python",
   "name": "python",
   "nbconvert_exporter": "python",
   "pygments_lexer": "ipython3",
   "version": "3.11.4"
  }
 },
 "nbformat": 4,
 "nbformat_minor": 2
}
