{
 "cells": [
  {
   "cell_type": "markdown",
   "metadata": {},
   "source": [
    "# Dictionary\n",
    "\n",
    "- 값을 저장하는 자료구조의 일종\n",
    "- **key**, **value**\n",
    "\n",
    "`{}`을 사용해 공백 dictionary를 생성, 하나씩 원소 생성"
   ]
  },
  {
   "cell_type": "code",
   "execution_count": 2,
   "metadata": {},
   "outputs": [
    {
     "name": "stdout",
     "output_type": "stream",
     "text": [
      "{'홍길동': '010-1234-5678'}\n"
     ]
    }
   ],
   "source": [
    "phone_book = { }\n",
    "phone_book[\"홍길동\"] = \"010-1234-5678\"\n",
    "print(phone_book)"
   ]
  },
  {
   "cell_type": "code",
   "execution_count": 5,
   "metadata": {},
   "outputs": [
    {
     "name": "stdout",
     "output_type": "stream",
     "text": [
      "{'홍길동': '010-1234-5678'}\n",
      "{'홍길동': '010-1234-5678', '강감찬': '010-8765-4321'}\n"
     ]
    }
   ],
   "source": [
    "phone_book = {\"홍길동\": \"010-1234-5678\"}\n",
    "print(phone_book)\n",
    "phone_book[\"강감찬\"] = \"010-8765-4321\"\n",
    "print(phone_book)"
   ]
  },
  {
   "cell_type": "markdown",
   "metadata": {},
   "source": [
    "리스트와 마찬가지로 dictionary에는 어떤 유형의 값도 저장이 가능함"
   ]
  },
  {
   "cell_type": "code",
   "execution_count": 8,
   "metadata": {},
   "outputs": [
    {
     "name": "stdout",
     "output_type": "stream",
     "text": [
      "홍길동\n",
      "29\n"
     ]
    }
   ],
   "source": [
    "personal_dict = {\"Name\": '홍길동', \"Age\": 29, \"Class\": \"초급\"}\n",
    "print(personal_dict[\"Name\"])\n",
    "print(personal_dict[\"Age\"])"
   ]
  },
  {
   "cell_type": "markdown",
   "metadata": {},
   "source": [
    "Values와 Keys들 심지어는 items를 이용해 짝으로 모두 호출할 수 있음"
   ]
  },
  {
   "cell_type": "code",
   "execution_count": 13,
   "metadata": {},
   "outputs": [
    {
     "name": "stdout",
     "output_type": "stream",
     "text": [
      "010-8765-4321\n",
      "dict_keys(['홍길동', '강감찬'])\n",
      "dict_values(['010-1234-5678', '010-8765-4321'])\n",
      "dict_items([('홍길동', '010-1234-5678'), ('강감찬', '010-8765-4321')])\n",
      "이름: 홍길동, 전화번호: 010-1234-5678\n",
      "이름: 강감찬, 전화번호: 010-8765-4321\n"
     ]
    }
   ],
   "source": [
    "print(phone_book[\"강감찬\"])\n",
    "print(phone_book.keys())\n",
    "print(phone_book.values())\n",
    "print(phone_book.items())\n",
    "for name, phone_num in phone_book.items():\n",
    "    print(\"이름: {}, 전화번호: {}\".format(name, phone_num))\n",
    "    "
   ]
  },
  {
   "cell_type": "code",
   "execution_count": 17,
   "metadata": {},
   "outputs": [
    {
     "name": "stdout",
     "output_type": "stream",
     "text": [
      "[('강감찬', '010-8765-4321'), ('홍길동', '010-1234-5678')]\n"
     ]
    }
   ],
   "source": [
    "sorted_phone_book = sorted(phone_book.items(), key=lambda x: x[0])\n",
    "print(sorted_phone_book)"
   ]
  }
 ],
 "metadata": {
  "kernelspec": {
   "display_name": "Python 3",
   "language": "python",
   "name": "python3"
  },
  "language_info": {
   "codemirror_mode": {
    "name": "ipython",
    "version": 3
   },
   "file_extension": ".py",
   "mimetype": "text/x-python",
   "name": "python",
   "nbconvert_exporter": "python",
   "pygments_lexer": "ipython3",
   "version": "3.11.4"
  }
 },
 "nbformat": 4,
 "nbformat_minor": 2
}
