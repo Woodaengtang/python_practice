{
 "cells": [
  {
   "cell_type": "markdown",
   "metadata": {},
   "source": [
    "# Dictionary\n",
    "\n",
    "- 값을 저장하는 자료구조의 일종\n",
    "- **key**, **value**\n",
    "\n",
    "`{}`을 사용해 공백 dictionary를 생성, 하나씩 원소 생성"
   ]
  },
  {
   "cell_type": "code",
   "execution_count": 14,
   "metadata": {},
   "outputs": [
    {
     "name": "stdout",
     "output_type": "stream",
     "text": [
      "{'홍길동': '010-1234-5678'}\n"
     ]
    }
   ],
   "source": [
    "phone_book = { }\n",
    "phone_book[\"홍길동\"] = \"010-1234-5678\"\n",
    "print(phone_book)"
   ]
  },
  {
   "cell_type": "code",
   "execution_count": 15,
   "metadata": {},
   "outputs": [
    {
     "name": "stdout",
     "output_type": "stream",
     "text": [
      "{'홍길동': '010-1234-5678'}\n",
      "{'홍길동': '010-1234-5678', '강감찬': '010-8765-4321', '이순신': '010-1234-5680'}\n"
     ]
    }
   ],
   "source": [
    "phone_book = {\"홍길동\": \"010-1234-5678\"}\n",
    "print(phone_book)\n",
    "phone_book[\"강감찬\"] = \"010-8765-4321\"\n",
    "phone_book[\"이순신\"] = \"010-1234-5680\"\n",
    "print(phone_book)"
   ]
  },
  {
   "cell_type": "markdown",
   "metadata": {},
   "source": [
    "**리스트와 마찬가지로 dictionary에는 어떤 유형의 값도 저장이 가능함**"
   ]
  },
  {
   "cell_type": "code",
   "execution_count": 16,
   "metadata": {},
   "outputs": [
    {
     "name": "stdout",
     "output_type": "stream",
     "text": [
      "홍길동\n",
      "29\n"
     ]
    }
   ],
   "source": [
    "personal_dict = {\"Name\": '홍길동', \"Age\": 29, \"Class\": \"초급\"}\n",
    "print(personal_dict[\"Name\"])\n",
    "print(personal_dict[\"Age\"])"
   ]
  },
  {
   "cell_type": "markdown",
   "metadata": {},
   "source": [
    "Values와 Keys들 심지어는 items를 이용해 짝으로 모두 호출할 수 있음"
   ]
  },
  {
   "cell_type": "code",
   "execution_count": 17,
   "metadata": {},
   "outputs": [
    {
     "name": "stdout",
     "output_type": "stream",
     "text": [
      "010-8765-4321\n",
      "dict_keys(['홍길동', '강감찬', '이순신'])\n",
      "dict_values(['010-1234-5678', '010-8765-4321', '010-1234-5680'])\n",
      "dict_items([('홍길동', '010-1234-5678'), ('강감찬', '010-8765-4321'), ('이순신', '010-1234-5680')])\n",
      "이름: 홍길동, 전화번호: 010-1234-5678\n",
      "이름: 강감찬, 전화번호: 010-8765-4321\n",
      "이름: 이순신, 전화번호: 010-1234-5680\n"
     ]
    }
   ],
   "source": [
    "print(phone_book[\"강감찬\"])\n",
    "print(phone_book.keys())\n",
    "print(phone_book.values())\n",
    "print(phone_book.items())\n",
    "\n",
    "for name, phone_num in phone_book.items():\n",
    "    print(\"이름: {}, 전화번호: {}\".format(name, phone_num))"
   ]
  },
  {
   "cell_type": "code",
   "execution_count": 18,
   "metadata": {},
   "outputs": [
    {
     "name": "stdout",
     "output_type": "stream",
     "text": [
      "홍길동 : 010-1234-5678\n",
      "강감찬 : 010-8765-4321\n",
      "이순신 : 010-1234-5680\n"
     ]
    }
   ],
   "source": [
    "for key in phone_book.keys():\n",
    "    print(key, ':', phone_book[key])"
   ]
  },
  {
   "cell_type": "markdown",
   "metadata": {},
   "source": [
    "- 딕셔너리 안에서 항목들은 자동으로 정렬되지 않음\n",
    "  - `sorted()` 함수를 사용하여 딕셔너리의 키를 기준으로 정렬 가능"
   ]
  },
  {
   "cell_type": "code",
   "execution_count": 19,
   "metadata": {},
   "outputs": [
    {
     "name": "stdout",
     "output_type": "stream",
     "text": [
      "[('강감찬', '010-8765-4321'), ('이순신', '010-1234-5680'), ('홍길동', '010-1234-5678')]\n",
      "[('홍길동', '010-1234-5678'), ('이순신', '010-1234-5680'), ('강감찬', '010-8765-4321')]\n"
     ]
    }
   ],
   "source": [
    "sorted_phone_book = sorted(phone_book.items(), key=lambda x: x[0])\n",
    "print(sorted_phone_book)\n",
    "\n",
    "sorted_phone_book = sorted(phone_book.items(), key=lambda x: x[1])\n",
    "print(sorted_phone_book)"
   ]
  },
  {
   "cell_type": "markdown",
   "metadata": {},
   "source": [
    "- 딕셔너리의 항목을 삭제하려면 다음과 같이 `del`을 사용"
   ]
  },
  {
   "cell_type": "code",
   "execution_count": 20,
   "metadata": {},
   "outputs": [
    {
     "name": "stdout",
     "output_type": "stream",
     "text": [
      "{'강감찬': '010-8765-4321', '이순신': '010-1234-5680'}\n"
     ]
    }
   ],
   "source": [
    "del phone_book['홍길동']\n",
    "print(phone_book)"
   ]
  },
  {
   "cell_type": "code",
   "execution_count": null,
   "metadata": {},
   "outputs": [],
   "source": [
    "keys()      # 딕셔너리 내의 모든 키를 반환한다.\n",
    "values()    # 딕셔너리 내의 모든 값을 반환한다.\n",
    "items()     # 딕셔너리 내의 모든 항목을 [키]:[값] 쌍으로 반환한다.\n",
    "get(key)    # 키에 대한 값을 반환한다. 키가 없으면 none을 반환한다.\n",
    "pop(key)    # 키에 대한 값을 반환하고, 그 항목을 삭제한다. 키가 없으면 KeyError 예외를 발생시킨다.\n",
    "popitem()   # 제일 마지막에 입력된 항목을 반환하고 그 항목을 삭제한다.\n",
    "clear()     # 딕셔너리 내의 모든 항목을 삭제한다."
   ]
  }
 ],
 "metadata": {
  "kernelspec": {
   "display_name": "Python 3",
   "language": "python",
   "name": "python3"
  },
  "language_info": {
   "codemirror_mode": {
    "name": "ipython",
    "version": 3
   },
   "file_extension": ".py",
   "mimetype": "text/x-python",
   "name": "python",
   "nbconvert_exporter": "python",
   "pygments_lexer": "ipython3",
   "version": "3.11.4"
  }
 },
 "nbformat": 4,
 "nbformat_minor": 2
}
