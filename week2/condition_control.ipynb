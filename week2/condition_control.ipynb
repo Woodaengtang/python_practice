{
 "cells": [
  {
   "cell_type": "markdown",
   "metadata": {},
   "source": [
    "### 프로그램의 기본 제어 구조\n",
    "- **순차 구조** sequence : 여러 명령이 순차적으로 실행되는 구조\n",
    "- **선택 구조** selection : 여러 개 중 하나의 명령문을 선택해 실행하는 구조\n",
    "- **반복 구조** iteration : 동일한 명령이 반복되면서 실행되는 구조\n",
    "\n",
    "#### if 문\n",
    "- 조건식 condition expression\n",
    "  - 어떤 조건을 만족하는지 그렇지 않은지르 판정하는 식\n",
    "- 이 조건식은 참 또는 거짓의 값을 갖는 boolean으로 평가함\n",
    "- 비교 연산자 활용 가능"
   ]
  },
  {
   "cell_type": "code",
   "execution_count": 1,
   "metadata": {},
   "outputs": [
    {
     "name": "stdout",
     "output_type": "stream",
     "text": [
      "x는 1 보다 큽니다.\n"
     ]
    }
   ],
   "source": [
    "x = 100\n",
    "if x > 1:\n",
    "    print(\"x는 1 보다 큽니다.\")"
   ]
  },
  {
   "cell_type": "markdown",
   "metadata": {},
   "source": [
    "- **주의**\n",
    "  - 대입 연산자 `=`과 관계 연산자 `==`은 다른 연산자\n",
    "  - **블록 : 들여쓰기**"
   ]
  },
  {
   "cell_type": "code",
   "execution_count": 2,
   "metadata": {},
   "outputs": [
    {
     "name": "stdout",
     "output_type": "stream",
     "text": [
      "0입니다.\n"
     ]
    }
   ],
   "source": [
    "num = int(input(\"정수를 입력하시요: \"))\n",
    "\n",
    "if num > 0:\n",
    "    print(\"양수입니다.\")\n",
    "elif num < 0:\n",
    "    print(\"음수입니다.\")\n",
    "else:\n",
    "    print(\"0입니다.\")    \n"
   ]
  }
 ],
 "metadata": {
  "kernelspec": {
   "display_name": "Python 3",
   "language": "python",
   "name": "python3"
  },
  "language_info": {
   "codemirror_mode": {
    "name": "ipython",
    "version": 3
   },
   "file_extension": ".py",
   "mimetype": "text/x-python",
   "name": "python",
   "nbconvert_exporter": "python",
   "pygments_lexer": "ipython3",
   "version": "3.11.4"
  }
 },
 "nbformat": 4,
 "nbformat_minor": 2
}
