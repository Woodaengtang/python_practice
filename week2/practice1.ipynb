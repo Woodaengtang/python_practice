{
 "cells": [
  {
   "cell_type": "code",
   "execution_count": 3,
   "metadata": {},
   "outputs": [
    {
     "name": "stdout",
     "output_type": "stream",
     "text": [
      "\"[2024-1] [57074] 파이썬과 인공지능 실습 _ W2.ipynb\" 세팅 완료 하였습니다.\n"
     ]
    }
   ],
   "source": [
    "# Q0\n",
    "print('\\\"[2024-1] [57074] 파이썬과 인공지능 실습 _ W2.ipynb\\\" 세팅 완료 하였습니다.')"
   ]
  },
  {
   "cell_type": "code",
   "execution_count": 5,
   "metadata": {},
   "outputs": [
    {
     "name": "stdout",
     "output_type": "stream",
     "text": [
      "*\n",
      "***\n",
      "*****\n",
      "*******\n"
     ]
    }
   ],
   "source": [
    "# Q1\n",
    "print(\"*\" * 1)\n",
    "print(\"*\" * 3)\n",
    "print(\"*\" * 5)\n",
    "print(\"*\" * 7)"
   ]
  },
  {
   "cell_type": "code",
   "execution_count": 7,
   "metadata": {},
   "outputs": [
    {
     "name": "stdout",
     "output_type": "stream",
     "text": [
      "100\n",
      "300\n",
      "100 + 200\n",
      "100 200\n",
      "100 200\n",
      "100200\n"
     ]
    }
   ],
   "source": [
    "# Q2\n",
    "print(100)\n",
    "print(100 + 200)\n",
    "print(\"100 + 200\")\n",
    "print(100, 200)\n",
    "print('100', '200')\n",
    "print('100'+'200')"
   ]
  },
  {
   "cell_type": "code",
   "execution_count": 9,
   "metadata": {},
   "outputs": [
    {
     "name": "stdout",
     "output_type": "stream",
     "text": [
      "Hello Python!\n",
      "Hello Python !\n",
      "HelloPython!\n",
      "HelloPython!\n"
     ]
    }
   ],
   "source": [
    "# Q3\n",
    "print('Hello Python!')\n",
    "print('Hello', 'Python', '!')\n",
    "print('Hello'+'Python'+'!')\n",
    "print('Hello''Python''!')"
   ]
  },
  {
   "cell_type": "code",
   "execution_count": 13,
   "metadata": {},
   "outputs": [
    {
     "name": "stdout",
     "output_type": "stream",
     "text": [
      "bmi:  0.0024691358024691358\n"
     ]
    }
   ],
   "source": [
    "# Q4\n",
    "h = int(input('키를 입력하시오 (cm):'))\n",
    "w = int(input('몸무게를 입력하시오 (kg):'))\n",
    "BMI = w/h**2\n",
    "print(\"bmi: \", str(BMI))"
   ]
  },
  {
   "cell_type": "code",
   "execution_count": 14,
   "metadata": {},
   "outputs": [
    {
     "name": "stdout",
     "output_type": "stream",
     "text": [
      "원금 (원): 1000000\n",
      "이율 (%): 3\n",
      "기간 (년)): 5\n",
      "수령금액: 1159274.0743\n"
     ]
    }
   ],
   "source": [
    "# Q5\n",
    "principal = int(input('원금을 입력하시오 :'))\n",
    "interest_rate = int(input('이율을 입력하시오 (%):'))\n",
    "years = int(input('기간을 입력하시오 (년)):'))\n",
    "money = principal*(1 + interest_rate/100)**years\n",
    "print('원금 (원):', str(principal))\n",
    "print('이율 (%):', str(interest_rate))\n",
    "print('기간 (년)):', str(years))\n",
    "print('수령금액:', str(money))"
   ]
  },
  {
   "cell_type": "code",
   "execution_count": 15,
   "metadata": {},
   "outputs": [
    {
     "name": "stdout",
     "output_type": "stream",
     "text": [
      "==============================================\n",
      "오늘 Tottenham Hotspur Stadium 에서 축구 경기가 열렸습니다.\n",
      "토트넘 홋스퍼 FC 과 크리스탈 팰리스 FC 은 치열한 공방전을 펼쳤습니다.\n",
      "손흥민 선수가 마지막에 결승골을 넣었습니다.\n",
      "==============================================\n"
     ]
    }
   ],
   "source": [
    "# Q6\n",
    "stadium = input('경기장은 어디입니까?')\n",
    "winner = input('이긴 팀은 어디입니까?')\n",
    "loser = input('진 팀은 어디입니까?')\n",
    "last_goal_player = input('결승골을 넣은 선수는 누구입니까?')\n",
    "\n",
    "print('==============================================')\n",
    "print('오늘', stadium, '에서 축구 경기가 열렸습니다.')\n",
    "print(winner, '과', loser, '은 치열한 공방전을 펼쳤습니다.')\n",
    "print(last_goal_player, '선수가 마지막에 결승골을 넣었습니다.')\n",
    "print('==============================================')"
   ]
  },
  {
   "cell_type": "code",
   "execution_count": 17,
   "metadata": {},
   "outputs": [
    {
     "name": "stdout",
     "output_type": "stream",
     "text": [
      "빗변은 5.0 입니다.\n"
     ]
    }
   ],
   "source": [
    "# Q7\n",
    "import math\n",
    "a = float(input('직각삼각형의 밑변의 길이를 입력하시오:'))\n",
    "b = float(input('직각삼각형의 높이를 입력하시오:'))\n",
    "c = math.sqrt(a**2 + b**2)\n",
    "print('빗변은', c, '입니다.')"
   ]
  },
  {
   "cell_type": "code",
   "execution_count": 19,
   "metadata": {},
   "outputs": [
    {
     "name": "stdout",
     "output_type": "stream",
     "text": [
      "500원 동전의 개수: 1\n",
      "100원 동전의 개수: 2\n"
     ]
    }
   ],
   "source": [
    "# Q8\n",
    "money = int(input('투입한 돈:'))\n",
    "price = int(input('물건값 :'))\n",
    "change =  money - price\n",
    "coin500 = change // 500\n",
    "coin100 = int((change % 500) / 100)\n",
    "print('500원 동전의 개수:', coin500)\n",
    "print('100원 동전의 개수:', coin100)"
   ]
  },
  {
   "cell_type": "code",
   "execution_count": 21,
   "metadata": {},
   "outputs": [
    {
     "name": "stdout",
     "output_type": "stream",
     "text": [
      "양수입니다.\n",
      "홀수입니다.\n"
     ]
    }
   ],
   "source": [
    "# Q9\n",
    "# 정수를 입력 받은 후 음수인지 양수인지 판단하여 이를 출력하고, 양수인\n",
    "# 경우에는 홀짝 여부를 판단하여 이를 추가 출력\n",
    "\n",
    "U = int(input('정수를 입력하시오:'))\n",
    "if (U > 0):\n",
    "    print('양수입니다.')\n",
    "    \n",
    "    if (U % 2 == 0):\n",
    "        print('짝수입니다.')\n",
    "    else:\n",
    "        print('홀수입니다.')\n",
    "        \n",
    "elif (U < 0):\n",
    "    print('음수입니다.')\n",
    "else:\n",
    "    print('0입니다.')"
   ]
  },
  {
   "cell_type": "code",
   "execution_count": 28,
   "metadata": {},
   "outputs": [
    {
     "name": "stdout",
     "output_type": "stream",
     "text": [
      "동전 던지기 게임을 시작합니다.\n",
      "앞면입니다.\n",
      "게임이 종료되었습니다.\n"
     ]
    }
   ],
   "source": [
    "import random\n",
    "print('동전 던지기 게임을 시작합니다.')\n",
    "coin = random.randrange(2)\n",
    "if coin == 0:\n",
    "    face = '앞면'\n",
    "else:\n",
    "    face = '뒷면'\n",
    "\n",
    "print(face+'입니다.')\n",
    "print('게임이 종료되었습니다.')"
   ]
  }
 ],
 "metadata": {
  "kernelspec": {
   "display_name": "Python 3",
   "language": "python",
   "name": "python3"
  },
  "language_info": {
   "codemirror_mode": {
    "name": "ipython",
    "version": 3
   },
   "file_extension": ".py",
   "mimetype": "text/x-python",
   "name": "python",
   "nbconvert_exporter": "python",
   "pygments_lexer": "ipython3",
   "version": "3.11.4"
  }
 },
 "nbformat": 4,
 "nbformat_minor": 2
}
