{
 "cells": [
  {
   "cell_type": "code",
   "execution_count": 46,
   "metadata": {},
   "outputs": [
    {
     "name": "stdout",
     "output_type": "stream",
     "text": [
      "0.6727433109223074\n",
      "0.12326098788756756\n",
      "0.7469323022377494\n",
      "7\n",
      "3\n",
      "4\n",
      "0\n",
      "[40, 30, 20, 50, 10]\n",
      "20\n"
     ]
    }
   ],
   "source": [
    "import random\n",
    "print(random.random())                  # 0 이상 1 미만의 임의의 실수 반환\n",
    "print(random.random())                  # 0 이상 1 미만의 임의의 실수 반환\n",
    "print(random.random())                  # 0 이상 1 미만의 임의의 실수 반환\n",
    "\n",
    "print(random.randint(1, 7))             # 1 이상 7 이하의 임의의 정수 반환\n",
    "print(random.randrange(7))              # 0 이상 7 미만의 임의의 정수 반환\n",
    "print(random.randrange(1, 7))           # 1 이상 7 미만의 임의의 정수 반환\n",
    "print(random.randrange(0, 10, 2))       # 0, 2, 4, 8 중 하나를 반환\n",
    "\n",
    "lst = [10, 20, 30, 40, 50]              \n",
    "random.shuffle(lst)                     # lst의 순서를 무작위로 섞기\n",
    "print(lst)\n",
    "print(random.choice(lst))               # lst의 원소 중 무작위로 하나 고르기"
   ]
  },
  {
   "cell_type": "code",
   "execution_count": 5,
   "metadata": {},
   "outputs": [
    {
     "name": "stdout",
     "output_type": "stream",
     "text": [
      "27.0\n",
      "99.0\n",
      "0.999999327347282\n",
      "2.0\n",
      "3.141592653589793\n",
      "1.0\n"
     ]
    }
   ],
   "source": [
    "import math\n",
    "print(math.pow(3, 3))           # 3의 3 제곱\n",
    "print(math.fabs(-99))           # -99의 실수 절대값\n",
    "print(math.log(2.71828))        # 자연로그 ln\n",
    "print(math.log(100, 10))        # 밑을 10으로 가지는 로그 100\n",
    "print(math.pi)                  # pi\n",
    "print(math.sin(math.pi/2))      # sin 함수 받아오기(rad)"
   ]
  }
 ],
 "metadata": {
  "kernelspec": {
   "display_name": "Python 3",
   "language": "python",
   "name": "python3"
  },
  "language_info": {
   "codemirror_mode": {
    "name": "ipython",
    "version": 3
   },
   "file_extension": ".py",
   "mimetype": "text/x-python",
   "name": "python",
   "nbconvert_exporter": "python",
   "pygments_lexer": "ipython3",
   "version": "3.11.4"
  }
 },
 "nbformat": 4,
 "nbformat_minor": 2
}
