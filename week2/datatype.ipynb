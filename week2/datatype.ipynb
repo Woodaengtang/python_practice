{
 "cells": [
  {
   "cell_type": "markdown",
   "metadata": {},
   "source": [
    "##### 다음 데이터 종류들을 자료형이라고 함\n",
    "- 정수(int)\n",
    "- 실수(float)\n",
    "- 문자열(str)\n",
    "- 부울형(bool)\n",
    "\n",
    "**파이썬에서는 변수에 어떤 종류의 데이터도 저장 가능**\n",
    "동일한 변수에 정수 데이터를 저장했다가 나중에 실수 데이터를 저장해도 됨"
   ]
  },
  {
   "cell_type": "code",
   "execution_count": 2,
   "metadata": {},
   "outputs": [
    {
     "data": {
      "text/plain": [
       "float"
      ]
     },
     "execution_count": 2,
     "metadata": {},
     "output_type": "execute_result"
    }
   ],
   "source": [
    "weight = 78.2\n",
    "type(weight)"
   ]
  },
  {
   "cell_type": "code",
   "execution_count": 6,
   "metadata": {},
   "outputs": [
    {
     "name": "stdout",
     "output_type": "stream",
     "text": [
      "철수가 '안녕'이라고 말했습니다.\n",
      "안녕 \n",
      "우리 다시 만나~\n",
      "안녕 \t우리 다시 만나~\n"
     ]
    }
   ],
   "source": [
    "# escape letter\n",
    "text = '철수가 \\'안녕\\'이라고 말했습니다.'\n",
    "print(text)\n",
    "text = '안녕 \\n우리 다시 만나~'\n",
    "print(text)\n",
    "text = '안녕 \\t우리 다시 만나~'\n",
    "print(text)\n"
   ]
  },
  {
   "cell_type": "code",
   "execution_count": 10,
   "metadata": {},
   "outputs": [
    {
     "name": "stdout",
     "output_type": "stream",
     "text": [
      "오우야 씨, 안녕하세요\n",
      "파이썬을 즐겁게 해봅시다\n"
     ]
    }
   ],
   "source": [
    "input_string = input('output_string')\n",
    "print(input_string, '씨, 안녕하세요')\n",
    "print('파이썬을 즐겁게 해봅시다')"
   ]
  }
 ],
 "metadata": {
  "kernelspec": {
   "display_name": "Python 3",
   "language": "python",
   "name": "python3"
  },
  "language_info": {
   "codemirror_mode": {
    "name": "ipython",
    "version": 3
   },
   "file_extension": ".py",
   "mimetype": "text/x-python",
   "name": "python",
   "nbconvert_exporter": "python",
   "pygments_lexer": "ipython3",
   "version": "3.11.4"
  }
 },
 "nbformat": 4,
 "nbformat_minor": 2
}
