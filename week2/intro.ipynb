{
 "cells": [
  {
   "cell_type": "markdown",
   "metadata": {},
   "source": [
    "# Data science\n",
    "- 데이터 과학data science은 데이터에서 과학적 방법으로 지식을 추출하는 학문\n",
    "- 통계학, 컴퓨터 과학, 그리고 데이터가 발생하는 영역과 관련된 학문 분야의 이론과 기술을 융합적으로 사용하여야 함\n",
    "\n",
    "### Python\n",
    "- 파이썬은 데이터 과학자들을 위한 분석도구\n",
    "- 프로그래밍을 통한 데이처 처리는 모든 학문에서 중요한 기초\n",
    "- 뉴턴의 과학 이후 : 실험과학, 이론과학이 축이 됨\n",
    "- 현재의 과학 : 데이터 중심의 과학\n",
    "\n",
    "### 데이터 처리 과정\n",
    "- 데이터 과학은 데이터를 확보하여 응용 분야에 사용할 수 있는 정보로 만들기 위해 다양한 과정을 수행\n",
    "  - Normalization, 차원 축소, 행렬 분해 등\n",
    "- 데이터 과학\n",
    "  - 컴퓨터를 이용한 계산 과학의 진보를 바탕으로 데이터의 수집과 분석, 활용과 관련된 모든 이론과 기술을 종합적으로 다루는 분야\n",
    "- 데이터 과학자는 데이터 엔지니어, 데이터 분석가, 기계학습 엔지니어의 역량을 모두 갖추고 다양한 문제를 해결해야 함\n",
    "- 컴퓨터 하드웨어와 소프트웨어 기술의 급속한 발달로 **대규모 데이터도 빠르게 처리**할 수 있게 됨\n",
    "- 컴퓨터를 잘 다룰 수 있다면 데이터를 처리하고 분석하는 일도 더욱 쉽고 효율적으로 바뀜\n",
    "\n",
    "#### Program\n",
    "- 컴퓨터가 해야할 일을 미리 기록해 놓은 작업 지시서\n",
    "#### Programming\n",
    "- 하나 이상의 명령어들을 입력해 프로그램을 작성하는 과정\n",
    "- Coding\n",
    "#### Programmer\n",
    "- 프로그램을 작성하는 사람\n",
    "- 컴퓨터에 명령을 내리는 명령어를 작성할 수 있어야 함"
   ]
  },
  {
   "cell_type": "markdown",
   "metadata": {},
   "source": [
    "- **Module**\n",
    "  - 파이썬 함수나 변수 또는 클래스들\n",
    "- **Standard library**: 파이썬 설치 시에 함께 제공되는 기본 모듈\n",
    "\n",
    "- **Package** : 추가로 외부에서 만든 라이브러리\n",
    "  - 외부 패키지 사용 방법\n",
    "  1. 파이썬 시스템에 `pip`라는 프로그램을 이용해 패키지 설치\n",
    "  2. 설치된 패키지 사용을 위해 불러들이는 작업 필요\n"
   ]
  },
  {
   "cell_type": "code",
   "execution_count": null,
   "metadata": {},
   "outputs": [],
   "source": [
    "#pip install package-name\n",
    "# 윈도우 터미널에서 다음 명령어 실행을 통해 특정 패키지 설치"
   ]
  },
  {
   "cell_type": "markdown",
   "metadata": {},
   "source": [
    "- 모듈이 설치된 상태라면 사용을 위해 불러와야 함\n",
    "- `import` 사용 및 모듈 이름에 점(.)을 찍은 후 모듈 안의 구성요소를 호출"
   ]
  },
  {
   "cell_type": "code",
   "execution_count": 3,
   "metadata": {},
   "outputs": [
    {
     "name": "stdout",
     "output_type": "stream",
     "text": [
      "[1 2 3]\n"
     ]
    }
   ],
   "source": [
    "import numpy as np\n",
    "matrix = np.array([1, 2, 3])\n",
    "print(matrix)"
   ]
  }
 ],
 "metadata": {
  "kernelspec": {
   "display_name": "Python 3",
   "language": "python",
   "name": "python3"
  },
  "language_info": {
   "codemirror_mode": {
    "name": "ipython",
    "version": 3
   },
   "file_extension": ".py",
   "mimetype": "text/x-python",
   "name": "python",
   "nbconvert_exporter": "python",
   "pygments_lexer": "ipython3",
   "version": "3.11.4"
  }
 },
 "nbformat": 4,
 "nbformat_minor": 2
}
