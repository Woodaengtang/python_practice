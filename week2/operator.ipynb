{
 "cells": [
  {
   "cell_type": "markdown",
   "metadata": {},
   "source": [
    "### Assignment operator\n",
    "변수에 값을 할당할 때 사용하는 `=` 기호\n",
    "- 연산자의 왼쪽은 값을 저장할 수 있는 변수\n",
    "- 연산자의 오른쪽은 값을 표현하는 숫자나 변수 또는 수식(expression)"
   ]
  },
  {
   "cell_type": "code",
   "execution_count": 4,
   "metadata": {},
   "outputs": [
    {
     "name": "stdout",
     "output_type": "stream",
     "text": [
      "100\n",
      "100\n",
      "100\n",
      "300\n"
     ]
    }
   ],
   "source": [
    "# Multiple assignment\n",
    "x = y = 100\n",
    "print(x)\n",
    "print(y)\n",
    "x, y = 100, 300\n",
    "print(x)\n",
    "print(y)"
   ]
  },
  {
   "cell_type": "code",
   "execution_count": 14,
   "metadata": {},
   "outputs": [
    {
     "name": "stdout",
     "output_type": "stream",
     "text": [
      "11\n",
      "3\n",
      "28\n",
      "1.75\n",
      "2.0\n",
      "1\n",
      "2\n",
      "2\n",
      "3\n",
      "1024\n"
     ]
    }
   ],
   "source": [
    "# 할당 연산자\n",
    "print(7+4) \n",
    "print(7-4) \n",
    "print(7*4) \n",
    "print(7/4) \n",
    "print(8/4) \n",
    "print(7//4) \n",
    "print(8//4) \n",
    "print(9//4)\n",
    "print(7%4)\n",
    "print(2**10)"
   ]
  },
  {
   "cell_type": "code",
   "execution_count": 13,
   "metadata": {},
   "outputs": [
    {
     "name": "stdout",
     "output_type": "stream",
     "text": [
      "150\n",
      "140\n",
      "1400\n",
      "140.0\n",
      "46.0\n",
      "6.0\n",
      "60466176.0\n"
     ]
    }
   ],
   "source": [
    "# 복합 할당 연산자\n",
    "i = 140\n",
    "i += 10\n",
    "print(i)\n",
    "i -= 10     \n",
    "print(i)\n",
    "i *= 10\n",
    "print(i)\n",
    "i /= 10\n",
    "print(i)\n",
    "i //= 3\n",
    "print(i)\n",
    "i %= 10\n",
    "print(i)\n",
    "i **= 10\n",
    "print(i)"
   ]
  },
  {
   "cell_type": "code",
   "execution_count": 1,
   "metadata": {},
   "outputs": [
    {
     "name": "stdout",
     "output_type": "stream",
     "text": [
      "300\n",
      "200\n",
      "4000\n",
      "2000.0\n"
     ]
    }
   ],
   "source": [
    "num = 200\n",
    "num += 100\n",
    "print(num)\n",
    "num -= 100\n",
    "print(num)\n",
    "num *= 20\n",
    "print(num)\n",
    "num /= 2\n",
    "print(num)"
   ]
  },
  {
   "cell_type": "markdown",
   "metadata": {},
   "source": [
    "### 비교 연산자\n",
    "- 수치 데이터를 담고 있는 두 개의 피연산자를 대상으로 크기 관계를 살펴봄\n",
    "  - 그 결과인 `True` 혹은 `False`를 반환\n",
    "- Boolean : `True` or `False`\n"
   ]
  },
  {
   "cell_type": "code",
   "execution_count": 2,
   "metadata": {},
   "outputs": [
    {
     "name": "stdout",
     "output_type": "stream",
     "text": [
      "False\n",
      "True\n",
      "False\n",
      "True\n",
      "False\n",
      "True\n"
     ]
    }
   ],
   "source": [
    "a, b = 100, 200\n",
    "print(a == b)\n",
    "print(a != b)\n",
    "print(a > b)\n",
    "print(a < b)\n",
    "print(a >= b)\n",
    "print(a <= b)"
   ]
  },
  {
   "cell_type": "markdown",
   "metadata": {},
   "source": [
    "### 논리 연산자\n",
    "`and`, `or`, `not` 연산을 통해 `True` 또는 `False` 반환 `boolean`\n",
    "\n",
    "원래 `boolean`이 아닌 자료형의 데이터도 `boolean`으로 변환 가능\n",
    "- 숫자 0을 `boolean`으로 변환 `False`\n",
    "- 0을 제외한 모든 수는 `boolean`으로 변환시 `True`\n",
    "- 공백 문자를 `boolean`으로 변환시 `False`\n",
    "- 그 이외에는 `True`\n",
    "- `None`은 값이 없음을 의미\n",
    "\n",
    "`x and y` : x와 y 중 거짓이 하나라도 있으면 거짓, 모두 참인 경우에만 참\n",
    "\n",
    "`x or y` : x 또는 y 하나라도 참이면 참이 됨, 모두 거짓인 경우에만 거짓\n",
    "\n",
    "`not x` : x가 참이면 거짓, 거짓이면 참이 된다."
   ]
  }
 ],
 "metadata": {
  "kernelspec": {
   "display_name": "Python 3",
   "language": "python",
   "name": "python3"
  },
  "language_info": {
   "codemirror_mode": {
    "name": "ipython",
    "version": 3
   },
   "file_extension": ".py",
   "mimetype": "text/x-python",
   "name": "python",
   "nbconvert_exporter": "python",
   "pygments_lexer": "ipython3",
   "version": "3.11.4"
  }
 },
 "nbformat": 4,
 "nbformat_minor": 2
}
