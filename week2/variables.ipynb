{
 "cells": [
  {
   "cell_type": "markdown",
   "metadata": {},
   "source": [
    "### Variables\n",
    "- **변수**에 데이터를 저장\n",
    "- 변수는 컴퓨터의 메모리 공간에 이름을 붙이는 것\n",
    "- 정수, 실수, 문자열 등의 자료값을 저장 가능\n",
    "- `=`은 *오른쪽의 값을 왼쪽의 weight라는 이름의 변수에 저장하라*는 의미\n",
    "  - `=`을 *할당연산자* 또는 *대입연산자*라고 함"
   ]
  },
  {
   "cell_type": "code",
   "execution_count": 1,
   "metadata": {},
   "outputs": [
    {
     "name": "stdout",
     "output_type": "stream",
     "text": [
      "78.2\n"
     ]
    }
   ],
   "source": [
    "weight = 78.2\n",
    "print(weight)"
   ]
  },
  {
   "cell_type": "markdown",
   "metadata": {},
   "source": [
    "변수 값 변형"
   ]
  },
  {
   "cell_type": "code",
   "execution_count": 3,
   "metadata": {},
   "outputs": [
    {
     "name": "stdout",
     "output_type": "stream",
     "text": [
      "72.2\n"
     ]
    }
   ],
   "source": [
    "weight = 78.2\n",
    "weight = 72.2\n",
    "print(weight)"
   ]
  },
  {
   "cell_type": "markdown",
   "metadata": {},
   "source": [
    "여러 변수 동시에 할당"
   ]
  },
  {
   "cell_type": "code",
   "execution_count": 4,
   "metadata": {},
   "outputs": [
    {
     "name": "stdout",
     "output_type": "stream",
     "text": [
      "100\n",
      "200\n"
     ]
    }
   ],
   "source": [
    "x, y = 100, 200\n",
    "print(x)\n",
    "print(y)"
   ]
  },
  {
   "cell_type": "markdown",
   "metadata": {},
   "source": [
    "- 문자와 숫자, 밑줄 문자(_)로 이루어짐\n",
    "- 밑줄 문자 이외의 특수 문자 사용 불가\n",
    "- 식별자의 첫 글자는 숫자로 시작할 수 없음\n",
    "- 중간에 공백을 가질 수 없음\n",
    "- 대문자와 소문자 구별됨\n",
    "\n",
    "*String*(문자열)도 변수에 저장 가능\n",
    "- 문자열 데이터는 *객체*로 부르며 `s1 = 'Hellow World!'`에서 `s1`은 해당 객체를 지칭하는 꼬리표로 봄\n",
    "\n",
    "Python은 개발자들이 편리하게 호출해 사용할 수 있는 미리 정의된 기능을 *function* 형태로 제공하고 있음\n"
   ]
  }
 ],
 "metadata": {
  "kernelspec": {
   "display_name": "Python 3",
   "language": "python",
   "name": "python3"
  },
  "language_info": {
   "codemirror_mode": {
    "name": "ipython",
    "version": 3
   },
   "file_extension": ".py",
   "mimetype": "text/x-python",
   "name": "python",
   "nbconvert_exporter": "python",
   "pygments_lexer": "ipython3",
   "version": "3.11.4"
  }
 },
 "nbformat": 4,
 "nbformat_minor": 2
}
