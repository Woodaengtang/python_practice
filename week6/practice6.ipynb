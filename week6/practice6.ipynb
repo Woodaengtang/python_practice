{
 "cells": [
  {
   "cell_type": "code",
   "execution_count": 41,
   "metadata": {},
   "outputs": [
    {
     "name": "stdout",
     "output_type": "stream",
     "text": [
      "[[0.58043495 0.04497653 0.9113399  0.37302642 0.97383379 0.80928756]\n",
      " [0.81758427 0.30005873 0.15192408 0.56750913 0.64951647 0.17795693]\n",
      " [0.19984517 0.25926276 0.60555174 0.87434037 0.46005221 0.07523475]\n",
      " [0.76948413 0.38787323 0.42630971 0.77595152 0.79821288 0.52920246]\n",
      " [0.85788329 0.80808415 0.68191239 0.86878657 0.22777943 0.69652375]\n",
      " [0.125044   0.19283011 0.45885292 0.26860284 0.19157466 0.73390524]]\n",
      "0.7531233979856057\n"
     ]
    }
   ],
   "source": [
    "# Q1\n",
    "# 0부터 1 사이의 무작위 실수로 채워진 rand_arr라는 변수의 6x6 NumPy 배열을 생성하여\n",
    "# 이 배열에서 0.5보다 큰 모든 요소의 위치를 찾고 해당 위치에 있는 요소들의 평균값을\n",
    "# 계산하는 함수를 작성\n",
    "\n",
    "import numpy as np\n",
    "\n",
    "rand_arr = np.random.rand(6, 6)\n",
    "\n",
    "def find_positions_and_average_(array):\n",
    "    mean_list = array.flatten()\n",
    "    n = 0\n",
    "    avg = 0\n",
    "    for i in mean_list:\n",
    "        if i > 0.5:\n",
    "            avg = avg*(n/(n+1)) + i / (n + 1)\n",
    "            n += 1\n",
    "            \n",
    "    return avg\n",
    "\n",
    "print(rand_arr)\n",
    "print(find_positions_and_average_(rand_arr))"
   ]
  },
  {
   "cell_type": "code",
   "execution_count": 45,
   "metadata": {},
   "outputs": [
    {
     "name": "stdout",
     "output_type": "stream",
     "text": [
      "[[0.11014885 0.75869909 0.08557652 0.91293775 0.75265522 0.46177618]\n",
      " [0.6809497  0.91497003 0.13246768 0.15558934 0.88295108 0.14388625]\n",
      " [0.7404209  0.06422033 0.62847139 0.13158275 0.98667695 0.69185493]\n",
      " [0.40772952 0.48331978 0.53600175 0.56973358 0.76433517 0.27064086]\n",
      " [0.98564868 0.7983478  0.72236151 0.55225871 0.7279909  0.87557378]\n",
      " [0.68248004 0.03376328 0.80241799 0.52350277 0.43807742 0.78118213]]\n",
      "[0.75097486]\n"
     ]
    }
   ],
   "source": [
    "rand_arr = np.random.rand(6, 6)\n",
    "\n",
    "def find_positions_and_average(array):\n",
    "    mean_list = array.flatten()\n",
    "    n = 0\n",
    "    avg = 0\n",
    "    for i in np.argwhere(mean_list > 0.5):\n",
    "        avg = avg * n / (n + 1) + mean_list[i] / (n + 1)\n",
    "        n += 1\n",
    "            \n",
    "    return avg\n",
    "\n",
    "print(rand_arr)\n",
    "print(find_positions_and_average(rand_arr))"
   ]
  },
  {
   "cell_type": "code",
   "execution_count": 47,
   "metadata": {},
   "outputs": [
    {
     "name": "stdout",
     "output_type": "stream",
     "text": [
      "[1 2 3 4 0 0 0]\n"
     ]
    }
   ],
   "source": [
    "# Q2\n",
    "# 주어진 1차원 NumPy 배열에서 모든 '0' 원소를 배열의 끝으로 이동시키는 함수 구현\n",
    "import numpy as np\n",
    "\n",
    "def move_zeros_to_end_(arr):\n",
    "    for i in range(len(arr)):\n",
    "        if arr[i] == 0:\n",
    "            arr[i:-1] = arr[i+1:]\n",
    "            arr[-1] = 0\n",
    "    return arr\n",
    "    \n",
    "arr = np.array([1, 0, 2, 0, 3, 0, 4])\n",
    "print(move_zeros_to_end_(arr))"
   ]
  },
  {
   "cell_type": "code",
   "execution_count": 59,
   "metadata": {},
   "outputs": [
    {
     "name": "stdout",
     "output_type": "stream",
     "text": [
      "[1. 2. 3. 4. 0. 0. 0.]\n"
     ]
    }
   ],
   "source": [
    "import numpy as np\n",
    "\n",
    "def move_zeros_to_end(arr):\n",
    "    zeros = np.array([])\n",
    "    others = np.array([])\n",
    "    for i in arr:\n",
    "        if i == 0:\n",
    "            zeros = np.append(zeros, i)\n",
    "        else:\n",
    "            others = np.append(others, i)\n",
    "        \n",
    "    return np.concatenate((others, zeros))\n",
    "    \n",
    "arr = np.array([1, 0, 2, 0, 3, 0, 4])\n",
    "print(move_zeros_to_end(arr))"
   ]
  },
  {
   "cell_type": "code",
   "execution_count": 67,
   "metadata": {},
   "outputs": [
    {
     "name": "stdout",
     "output_type": "stream",
     "text": [
      "[[0. 1. 2. 3. 4.]\n",
      " [1. 2. 3. 4. 5.]\n",
      " [2. 3. 4. 5. 6.]\n",
      " [3. 4. 5. 6. 7.]\n",
      " [4. 5. 6. 7. 8.]]\n"
     ]
    }
   ],
   "source": [
    "# Q3\n",
    "# 유저로부터 양의 정수 n을 받아 n x n 크기의 2차원 NumPy 배열을 생성하고, 각 원소의\n",
    "# 값을 그 원소가 속한 행과 열의 인덱스 합으로 설정하기. 예를 들어, (3, 4) 위치의 원소\n",
    "# 값은 3+4=7이 되어야 함\n",
    "\n",
    "def create_index_sum_array_(n):\n",
    "    nd_array = np.zeros((n, n))\n",
    "    for i in range(n):\n",
    "        for j in range(n):\n",
    "            nd_array[i][j] = i + j\n",
    "    return nd_array\n",
    "\n",
    "n = int(input('양의 정수를 입력하시오 : '))\n",
    "get_arr = create_index_sum_array_(n)\n",
    "print(get_arr)"
   ]
  },
  {
   "cell_type": "code",
   "execution_count": 72,
   "metadata": {},
   "outputs": [
    {
     "name": "stdout",
     "output_type": "stream",
     "text": [
      "[[0 1 2 3 4]\n",
      " [1 2 3 4 5]\n",
      " [2 3 4 5 6]\n",
      " [3 4 5 6 7]\n",
      " [4 5 6 7 8]]\n"
     ]
    }
   ],
   "source": [
    "def create_index_sum_array(n):\n",
    "    nd_arr1, nd_arr2 = np.indices((n, n))\n",
    "    return nd_arr1 + nd_arr2\n",
    "        \n",
    "n = int(input('양의 정수를 입력하시오 : '))\n",
    "get_arr = create_index_sum_array(n)\n",
    "print(get_arr)"
   ]
  },
  {
   "cell_type": "code",
   "execution_count": 76,
   "metadata": {},
   "outputs": [
    {
     "data": {
      "image/png": "[encoded data removed]",
      "text/plain": [
       "<Figure size 640x480 with 1 Axes>"
      ]
     },
     "metadata": {},
     "output_type": "display_data"
    }
   ],
   "source": [
    "# Q4\n",
    "import numpy as np\n",
    "import matplotlib.pyplot as plt\n",
    "\n",
    "def plot_trigonometric_functions(x_val):\n",
    "    sinline = np.array([np.sin(x) for x in x_val])\n",
    "    cosline = np.array([np.cos(x) for x in x_val])\n",
    "\n",
    "    plt.plot(xline, sinline, 'b-', label='sin')\n",
    "    plt.plot(xline, cosline, 'r--', label='cos')\n",
    "    plt.ylim([-2, 2])\n",
    "    plt.ylabel('y')\n",
    "    plt.xlabel('x')\n",
    "    plt.legend()\n",
    "    plt.show()\n",
    "    \n",
    "xline = np.linspace(-np.pi, np.pi, 100)\n",
    "plot_trigonometric_functions(xline)"
   ]
  }
 ],
 "metadata": {
  "kernelspec": {
   "display_name": "Python 3",
   "language": "python",
   "name": "python3"
  },
  "language_info": {
   "codemirror_mode": {
    "name": "ipython",
    "version": 3
   },
   "file_extension": ".py",
   "mimetype": "text/x-python",
   "name": "python",
   "nbconvert_exporter": "python",
   "pygments_lexer": "ipython3",
   "version": "3.11.4"
  }
 },
 "nbformat": 4,
 "nbformat_minor": 2
}
