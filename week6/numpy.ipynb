{
 "cells": [
  {
   "cell_type": "markdown",
   "metadata": {},
   "source": [
    "### 넘파이 배열\n",
    "- 리스트와의 비교\n",
    "  - 리스트는 여러 종류의 자료형 및 값들을 저장할 수 있는 자료구조. \n",
    "  - 데이터를 변경하거나 추가, 제거도 가능"
   ]
  },
  {
   "cell_type": "code",
   "execution_count": 2,
   "metadata": {},
   "outputs": [
    {
     "name": "stdout",
     "output_type": "stream",
     "text": [
      "[10, 20, 30, 40, 50, 60]\n"
     ]
    }
   ],
   "source": [
    "scores = [10, 20, 30, 40, 50, 60]\n",
    "print(scores)"
   ]
  },
  {
   "cell_type": "markdown",
   "metadata": {},
   "source": [
    "    - 하지만 연산속도가 느림\n",
    "- 보다 최적화가 잘 되어 있는 넘파이Numpy를 선호\n",
    "- 넘파이: 대용량의 배열과 행렬 연산을 빠르게 수행하며, 고차원적인 수학 연산자와 함수를 포함하고 있는 파이썬 라이브러리\n",
    "- 리스트에 비하여 처리속도가 매우 빠름\n",
    "\n",
    "- 넘파이의 핵심적인 객체: 다차원 배열\n",
    "  - Ex 정수들의 2차원 배열(테이블)을 넘파이를 이용해서 생성가능 & 배열의 각 요소는 인덱스index라고 불리는 정수들로 참조됨\n",
    "- 넘파이에서 차원은 축axis이라고도 함\n",
    "\n",
    "### ndarray 객체\n",
    "- `ndarray` 는 C 언어에 기반한 배열 구조이므로 메모리를 적게 차지하고 속도가 빠름\n",
    "- `ndarray` 를 사용하면 배열과 배열 간에 수학적인 연산을 적용 가능\n",
    "- `ndarray` 는 고급 연산자와 풍부한 함수들을 제공\n",
    "\n",
    "### 넘파이 패키지\n",
    "- 넘파이 패키지를 불러오는 방법\n",
    "- `import ~ as`에서 `as` 뒤에 나타나는 이름은 `as` 앞의 이름을 대체하는 별칭\n",
    "- 보통 numpy의 별칭`alias`으로 `np`를 사용함\n",
    "- 넘파이 배열을 만들려면 넘파이가 제공하는 `array( )` 함수를 이용해야함\n",
    "- `array( )` 함수에 파이썬 리스트를 전달하면 넘파이 배열이 생성된다"
   ]
  },
  {
   "cell_type": "code",
   "execution_count": 3,
   "metadata": {},
   "outputs": [
    {
     "name": "stdout",
     "output_type": "stream",
     "text": [
      "시험 성적의 합계 : [ 70  90 110]\n",
      "시험 성적의 평균 : [35. 45. 55.]\n"
     ]
    }
   ],
   "source": [
    "import numpy as np\n",
    "\n",
    "mid_scores = np.array([10, 20, 30])\n",
    "fin_scores = np.array([60, 70, 80])\n",
    "\n",
    "total_scores = mid_scores + fin_scores\n",
    "print('시험 성적의 합계 :', total_scores)\n",
    "print('시험 성적의 평균 :', total_scores/2)"
   ]
  },
  {
   "cell_type": "markdown",
   "metadata": {},
   "source": [
    "### 다차원배열\n",
    "- 다차원배열의 속성\n",
    "- `.shape`, `.ndim`, `.dtype`, `.itemsize`, `.size` 등을 활용하여 정보 추출 가능"
   ]
  },
  {
   "cell_type": "code",
   "execution_count": 4,
   "metadata": {},
   "outputs": [
    {
     "name": "stdout",
     "output_type": "stream",
     "text": [
      "(6,)\n",
      "1\n",
      "int32\n",
      "4\n",
      "6\n"
     ]
    }
   ],
   "source": [
    "a = np.array([1, 2, 3, 4, 5, 6])\n",
    "print(a.shape)\n",
    "print(a.ndim)\n",
    "print(a.dtype)\n",
    "print(a.itemsize)\n",
    "print(a.size)"
   ]
  },
  {
   "cell_type": "markdown",
   "metadata": {},
   "source": [
    "### 넘파이 배열 연산\n",
    "- 덧셈\n",
    "- 곱셈"
   ]
  },
  {
   "cell_type": "code",
   "execution_count": 12,
   "metadata": {},
   "outputs": [
    {
     "name": "stdout",
     "output_type": "stream",
     "text": [
      "[200 250 230]\n",
      "[300 350 330]\n",
      "[400 500 460]\n"
     ]
    }
   ],
   "source": [
    "import numpy as np\n",
    "salary = np.array([200, 250, 230])\n",
    "print(salary)\n",
    "\n",
    "salary += 100\n",
    "print(salary)\n",
    "\n",
    "salary = np.array([200, 250, 230])\n",
    "salary *= 2\n",
    "print(salary)"
   ]
  },
  {
   "cell_type": "markdown",
   "metadata": {},
   "source": [
    "- 넘파이 배열의 특징: 동일한 타입의 데이터만 저장 가능\n",
    "- *주의*: 여러 가지 타입을 섞어서 넘파이 배열에 전달하면 이를 모두 문자열로 변경함\n",
    "- 넘파이 연산 속도가 빠른 이유: **동일한 데이터 타입으로 간주**하기 때문에 **항상 일정한 저장공간을 만들**어서 빠르게 접근이 가능함 → *임의 접근 random access*"
   ]
  },
  {
   "cell_type": "code",
   "execution_count": 18,
   "metadata": {},
   "outputs": [
    {
     "name": "stdout",
     "output_type": "stream",
     "text": [
      "39\n",
      "99\n",
      "[72 39 94]\n",
      "[False False  True  True  True]\n"
     ]
    }
   ],
   "source": [
    "scores = np.array([88, 72, 39, 94, 89, 78, 99])\n",
    "print(scores[2])\n",
    "print(scores[-1])\n",
    "print(scores[1:4])\n",
    "\n",
    "ages = np.array([18, 19, 20, 30, 28])\n",
    "is_adult = ages > 19\n",
    "print(is_adult)"
   ]
  },
  {
   "cell_type": "markdown",
   "metadata": {},
   "source": [
    "- 파이썬의 2차원 리스트\n",
    "  - 리스트의 리스트\n",
    "  - 수학에서의 행렬matrix와 비슷 / 단, 리스트는 행렬 연산을 지원 하지 않음"
   ]
  },
  {
   "cell_type": "code",
   "execution_count": 23,
   "metadata": {},
   "outputs": [
    {
     "name": "stdout",
     "output_type": "stream",
     "text": [
      "[[1, 2, 3], [4, 5, 6], [7, 8, 9]]\n",
      "[[1 2 3]\n",
      " [4 5 6]\n",
      " [7 8 9]]\n",
      "2\n",
      "3\n",
      "1\n",
      "6\n"
     ]
    }
   ],
   "source": [
    "y = [[1, 2, 3], [4, 5, 6], [7, 8, 9]]\n",
    "# python도 list 내의 list로 2차원 배열 선언을 제공은 함! 수학적 계산이 안될 뿐이지...\n",
    "print(y)\n",
    "\n",
    "y = np.array([[1, 2, 3], [4, 5, 6], [7, 8, 9]])\n",
    "# 또는\n",
    "y = np.array(y)\n",
    "print(y)\n",
    "\n",
    "print(y[0][1])\n",
    "print(y[0][2])\n",
    "print(y[0][0])\n",
    "print(y[1][2])"
   ]
  },
  {
   "cell_type": "markdown",
   "metadata": {},
   "source": [
    "- 콤마를 사용하여 np_array[0, 2]로 써주어도 됨 ex) [row, col] \n",
    "- 콤마 앞에 값은 행을 나타내며, 콤마 뒤에 값은 열을 의미\n",
    "- 배열 요소 변경 가능\n",
    "- [주의] 파이썬 리스트와 달리, **넘파이 배열은 모든 항목이 동일한 자료형**을 가진다는 것을 명심. \n",
    "  - 예를 들어 *정수 배열에 부동 소수점 값을 삽입하려고 하면 소수점 이하값은 자동으로 사라짐*"
   ]
  },
  {
   "cell_type": "code",
   "execution_count": 26,
   "metadata": {},
   "outputs": [
    {
     "name": "stdout",
     "output_type": "stream",
     "text": [
      "6\n",
      "3\n",
      "89\n",
      "0\n",
      "[[1 2 3]\n",
      " [4 5 6]\n",
      " [7 8 0]]\n"
     ]
    }
   ],
   "source": [
    "print(y[1, 2])\n",
    "print(y[0, -1])\n",
    "\n",
    "y[2, 2] = 89\n",
    "print(y[2, 2])\n",
    "\n",
    "y[2, 2] = 0.4649\n",
    "print(y[2, 2])\n",
    "print(y)"
   ]
  },
  {
   "cell_type": "markdown",
   "metadata": {},
   "source": [
    "넘파이 슬라이싱: 큰 행렬에서 작은 행렬을 끄집어내는 것으로 간주"
   ]
  },
  {
   "cell_type": "code",
   "execution_count": 29,
   "metadata": {},
   "outputs": [
    {
     "name": "stdout",
     "output_type": "stream",
     "text": [
      "[[ 1  2  3  4]\n",
      " [ 5  6  7  8]\n",
      " [ 9 10 11 12]\n",
      " [13 14 15 16]]\n",
      "[[3 4]\n",
      " [7 8]]\n",
      "[[ 1  3]\n",
      " [ 9 11]]\n"
     ]
    }
   ],
   "source": [
    "np_array = np.array([[1,2,3,4], [5,6,7,8], [9, 10, 11, 12], [13, 14, 15, 16]])\n",
    "print(np_array)\n",
    "\n",
    "new_array = np_array[0:2, 2:4]\n",
    "print(new_array)\n",
    "\n",
    "new_array = np_array[::2, ::2]\n",
    "print(new_array)"
   ]
  },
  {
   "cell_type": "markdown",
   "metadata": {},
   "source": [
    "- `np_array` 배열내의 모든 원소들 중에서 5보다 큰 값만이 추출되어 `[6, 7, 8, 9]`와 같은 1차원 행렬이 출력되는 것을 볼 수 있다"
   ]
  },
  {
   "cell_type": "code",
   "execution_count": 38,
   "metadata": {},
   "outputs": [
    {
     "name": "stdout",
     "output_type": "stream",
     "text": [
      "[[False False False False]\n",
      " [False False False False]\n",
      " [ True  True  True  True]\n",
      " [ True  True  True  True]]\n",
      "\n",
      "\n",
      "[ 9 10 11 12 13 14 15 16]\n"
     ]
    }
   ],
   "source": [
    "new_array = np_array > 8\n",
    "print(new_array)\n",
    "print('\\n')\n",
    "new_array = np_array[np_array > 8]\n",
    "print(new_array)"
   ]
  },
  {
   "cell_type": "markdown",
   "metadata": {},
   "source": [
    "#### arrange()\n",
    "- `range()`와 비슷하지만 넘파이 배열을 생성\n",
    "`- range()`와 `np.array()`를 쓰면 넘파이 배열이 만들어짐"
   ]
  },
  {
   "cell_type": "code",
   "execution_count": 5,
   "metadata": {},
   "outputs": [
    {
     "name": "stdout",
     "output_type": "stream",
     "text": [
      "[0 1 2 3 4]\n",
      "[1 2 3 4 5]\n",
      "[1 3 5 7 9]\n",
      "[0 2 4]\n"
     ]
    }
   ],
   "source": [
    "print(np.arange(5))\n",
    "print(np.arange(1, 6))\n",
    "print(np.arange(1, 10, 2))\n",
    "print(np.arange(0, 5, 2))"
   ]
  },
  {
   "cell_type": "code",
   "execution_count": 7,
   "metadata": {},
   "outputs": [
    {
     "name": "stdout",
     "output_type": "stream",
     "text": [
      "Sorted array is: [11, 12, 22, 25, 34, 64, 90]\n"
     ]
    }
   ],
   "source": []
  }
 ],
 "metadata": {
  "kernelspec": {
   "display_name": "Python 3",
   "language": "python",
   "name": "python3"
  },
  "language_info": {
   "codemirror_mode": {
    "name": "ipython",
    "version": 3
   },
   "file_extension": ".py",
   "mimetype": "text/x-python",
   "name": "python",
   "nbconvert_exporter": "python",
   "pygments_lexer": "ipython3",
   "version": "3.11.4"
  }
 },
 "nbformat": 4,
 "nbformat_minor": 2
}
