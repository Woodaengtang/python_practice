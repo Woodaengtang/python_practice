{
 "cells": [
  {
   "cell_type": "markdown",
   "metadata": {},
   "source": [
    "### 넘파이 배열\n",
    "- 리스트와의 비교\n",
    "  - 리스트는 여러 종류의 자료형 및 값들을 저장할 수 있는 자료구조. \n",
    "  - 데이터를 변경하거나 추가, 제거도 가능"
   ]
  },
  {
   "cell_type": "code",
   "execution_count": 2,
   "metadata": {},
   "outputs": [
    {
     "name": "stdout",
     "output_type": "stream",
     "text": [
      "[10, 20, 30, 40, 50, 60]\n"
     ]
    }
   ],
   "source": [
    "scores = [10, 20, 30, 40, 50, 60]\n",
    "print(scores)"
   ]
  },
  {
   "cell_type": "markdown",
   "metadata": {},
   "source": [
    "    - 하지만 연산속도가 느림\n",
    "- **보다 최적화가 잘 되어 있는 넘파이Numpy를 선호**\n",
    "- 넘파이: 대용량의 배열과 **행렬 연산을 빠르게 수행**하며, **고차원적인 수학 연산자와 함수를 포함하고 있는 파이썬 라이브러리**\n",
    "- **리스트에 비하여 처리속도가 매우 빠름**\n",
    "\n",
    "- 넘파이의 핵심적인 **객체**: **다차원 배열**\n",
    "  - Ex 정수들의 2차원 배열(테이블)을 넘파이를 이용해서 생성가능 & 배열의 각 요소는 **인덱스index**라고 불리는 정수들로 참조됨\n",
    "- 넘파이에서 차원은 축axis이라고도 함\n",
    "\n",
    "### ndarray 객체\n",
    "- `ndarray` 는 **C 언어에 기반한 배열 구조**이므로 메모리를 적게 차지하고 속도가 빠름\n",
    "- `ndarray` 를 사용하면 배열과 배열 간에 수학적인 연산을 적용 가능\n",
    "- `ndarray` 는 고급 연산자와 풍부한 함수들을 제공\n",
    "\n",
    "### 넘파이 패키지\n",
    "- 넘파이 패키지를 불러오는 방법\n",
    "- `import ~ as`에서 `as` 뒤에 나타나는 이름은 `as` 앞의 이름을 대체하는 별칭\n",
    "- 보통 numpy의 별칭`alias`으로 `np`를 사용함\n",
    "- 넘파이 배열을 만들려면 넘파이가 제공하는 `array( )` 함수를 이용해야함\n",
    "- `array( )` 함수에 파이썬 리스트를 전달하면 넘파이 배열이 생성된다"
   ]
  },
  {
   "cell_type": "code",
   "execution_count": 3,
   "metadata": {},
   "outputs": [
    {
     "name": "stdout",
     "output_type": "stream",
     "text": [
      "시험 성적의 합계 : [ 70  90 110]\n",
      "시험 성적의 평균 : [35. 45. 55.]\n"
     ]
    }
   ],
   "source": [
    "import numpy as np\n",
    "\n",
    "mid_scores = np.array([10, 20, 30])\n",
    "fin_scores = np.array([60, 70, 80])\n",
    "\n",
    "total_scores = mid_scores + fin_scores\n",
    "print('시험 성적의 합계 :', total_scores)\n",
    "print('시험 성적의 평균 :', total_scores/2)"
   ]
  },
  {
   "cell_type": "markdown",
   "metadata": {},
   "source": [
    "### 다차원배열\n",
    "- 다차원배열의 속성\n",
    "- `.shape`, `.ndim`, `.dtype`, `.itemsize`, `.size` 등을 활용하여 정보 추출 가능"
   ]
  },
  {
   "cell_type": "code",
   "execution_count": 8,
   "metadata": {},
   "outputs": [
    {
     "name": "stdout",
     "output_type": "stream",
     "text": [
      "(6,)\n",
      "1\n",
      "int32\n",
      "4\n",
      "6\n",
      "[1 2 3 4 5 6]\n"
     ]
    }
   ],
   "source": [
    "a = np.array([1, 2, 3, 4, 5, 6])\n",
    "print(a.shape)\n",
    "print(a.ndim)\n",
    "print(a.dtype)\n",
    "print(a.itemsize)\n",
    "print(a.size)\n",
    "print(a)"
   ]
  },
  {
   "cell_type": "code",
   "execution_count": 10,
   "metadata": {},
   "outputs": [
    {
     "name": "stdout",
     "output_type": "stream",
     "text": [
      "1\n",
      "(6,)\n",
      "6\n",
      "int32\n",
      "4\n",
      "<memory at 0x000001A962DE8340>\n",
      "(4,)\n"
     ]
    }
   ],
   "source": [
    "print(a.ndim)      # 배열 축 혹은 차원의 수\n",
    "print(a.shape)     # 배열의 차원으로 (m, n) 형식의 튜플 m과 n은 각 차원의 원소 크기를 알려주는 정수\n",
    "print(a.size)      # 배열 원소의 수\n",
    "print(a.dtype)     # 배열 내의 원소의 type을 기술하는 객체\n",
    "print(a.itemsize)  # 배열 내의 원소의 크기를 바이트 단위로 기술\n",
    "print(a.data)      # 배열의 실제 원소를 포함하고 있는 버퍼\n",
    "print(a.strides)   # 배열 각 차원별로 다음 요소로 점프하는 데에 필요한 거리를 바이트로 표시한 값을 모은 튜플"
   ]
  },
  {
   "cell_type": "markdown",
   "metadata": {},
   "source": [
    "### 넘파이 배열 연산\n",
    "- 덧셈\n",
    "- 곱셈"
   ]
  },
  {
   "cell_type": "code",
   "execution_count": 12,
   "metadata": {},
   "outputs": [
    {
     "name": "stdout",
     "output_type": "stream",
     "text": [
      "[200 250 230]\n",
      "[300 350 330]\n",
      "[400 500 460]\n"
     ]
    }
   ],
   "source": [
    "import numpy as np\n",
    "salary = np.array([200, 250, 230])\n",
    "print(salary)\n",
    "\n",
    "salary += 100\n",
    "print(salary)\n",
    "\n",
    "salary = np.array([200, 250, 230])\n",
    "salary *= 2\n",
    "print(salary)"
   ]
  },
  {
   "cell_type": "markdown",
   "metadata": {},
   "source": [
    "### Numpy Indexing / Slicing\n",
    "- 넘파이 배열의 특징: 동일한 타입의 데이터만 저장 가능\n",
    "- **주의**: 여러 가지 타입을 섞어서 넘파이 배열에 전달하면 이를 모두 문자열로 변경함\n",
    "- 넘파이 연산 속도가 빠른 이유: **동일한 데이터 타입으로 간주**하기 때문에 **항상 일정한 저장공간을 만들**어서 빠르게 접근이 가능함 → *임의 접근 random access*"
   ]
  },
  {
   "cell_type": "code",
   "execution_count": 18,
   "metadata": {},
   "outputs": [
    {
     "name": "stdout",
     "output_type": "stream",
     "text": [
      "39\n",
      "99\n",
      "[72 39 94]\n",
      "[False False  True  True  True]\n"
     ]
    }
   ],
   "source": [
    "scores = np.array([88, 72, 39, 94, 89, 78, 99])\n",
    "print(scores[2])\n",
    "print(scores[-1])\n",
    "print(scores[1:4])\n",
    "\n",
    "ages = np.array([18, 19, 20, 30, 28])\n",
    "is_adult = ages > 19\n",
    "print(is_adult)"
   ]
  },
  {
   "cell_type": "markdown",
   "metadata": {},
   "source": [
    "- 파이썬의 2차원 리스트\n",
    "  - 리스트의 리스트\n",
    "  - 수학에서의 행렬matrix와 비슷 / **단, 리스트는 행렬 연산을 지원 하지 않음**"
   ]
  },
  {
   "cell_type": "code",
   "execution_count": 12,
   "metadata": {},
   "outputs": [
    {
     "name": "stdout",
     "output_type": "stream",
     "text": [
      "[[1, 2, 3], [4, 5, 6], [7, 8, 9]]\n",
      "[[1 2 3]\n",
      " [4 5 6]\n",
      " [7 8 9]]\n",
      "2\n",
      "3\n",
      "1\n",
      "6\n"
     ]
    }
   ],
   "source": [
    "y = [[1, 2, 3], [4, 5, 6], [7, 8, 9]]\n",
    "# python도 list 내의 list로 2차원 배열 선언을 제공은 함! 수학적 계산이 안될 뿐이지...\n",
    "print(y)\n",
    "\n",
    "y = np.array([[1, 2, 3], [4, 5, 6], [7, 8, 9]])\n",
    "# 또는\n",
    "y = np.array(y)\n",
    "print(y)\n",
    "\n",
    "print(y[0][1])\n",
    "print(y[0][2])\n",
    "print(y[0][0])\n",
    "print(y[1][2])"
   ]
  },
  {
   "cell_type": "markdown",
   "metadata": {},
   "source": [
    "- 콤마를 사용하여 `np_array[0, 2]`로 써주어도 됨 ex) `[row, col]`\n",
    "- 콤마 앞에 값은 행을 나타내며, 콤마 뒤에 값은 열을 의미\n",
    "- 배열 요소 변경 가능\n",
    "- **[주의]** 파이썬 리스트와 달리, **넘파이 배열은 모든 항목이 동일한 자료형**을 가진다는 것을 명심. \n",
    "  - 예를 들어 *정수 배열에 부동 소수점 값을 삽입하려고 하면 소수점 이하값은 자동으로 사라짐*"
   ]
  },
  {
   "cell_type": "code",
   "execution_count": 13,
   "metadata": {},
   "outputs": [
    {
     "name": "stdout",
     "output_type": "stream",
     "text": [
      "6\n",
      "2\n",
      "89\n",
      "0\n",
      "[[1 2 3]\n",
      " [4 5 6]\n",
      " [7 8 0]]\n"
     ]
    }
   ],
   "source": [
    "print(y[1, 2])\n",
    "print(y[0, -1])\n",
    "\n",
    "y[2, 2] = 89\n",
    "print(y[2, 2])\n",
    "\n",
    "y[2, 2] = 0.4649\n",
    "print(y[2, 2])\n",
    "print(y)"
   ]
  },
  {
   "cell_type": "markdown",
   "metadata": {},
   "source": [
    "넘파이 슬라이싱: 큰 행렬에서 작은 행렬을 끄집어내는 것으로 간주"
   ]
  },
  {
   "cell_type": "code",
   "execution_count": 29,
   "metadata": {},
   "outputs": [
    {
     "name": "stdout",
     "output_type": "stream",
     "text": [
      "[[ 1  2  3  4]\n",
      " [ 5  6  7  8]\n",
      " [ 9 10 11 12]\n",
      " [13 14 15 16]]\n",
      "[[3 4]\n",
      " [7 8]]\n",
      "[[ 1  3]\n",
      " [ 9 11]]\n"
     ]
    }
   ],
   "source": [
    "np_array = np.array([[1,2,3,4], [5,6,7,8], [9, 10, 11, 12], [13, 14, 15, 16]])\n",
    "print(np_array)\n",
    "\n",
    "new_array = np_array[0:2, 2:4]\n",
    "print(new_array)\n",
    "\n",
    "new_array = np_array[::2, ::2]\n",
    "print(new_array)"
   ]
  },
  {
   "cell_type": "markdown",
   "metadata": {},
   "source": [
    "### Logical Indexing\n",
    "- `np_array` 배열내의 모든 원소들 중에서 5보다 큰 값만이 추출되어 `[6, 7, 8, 9]`와 같은 1차원 행렬이 출력되는 것을 볼 수 있다"
   ]
  },
  {
   "cell_type": "code",
   "execution_count": 38,
   "metadata": {},
   "outputs": [
    {
     "name": "stdout",
     "output_type": "stream",
     "text": [
      "[[False False False False]\n",
      " [False False False False]\n",
      " [ True  True  True  True]\n",
      " [ True  True  True  True]]\n",
      "\n",
      "\n",
      "[ 9 10 11 12 13 14 15 16]\n"
     ]
    }
   ],
   "source": [
    "new_array = np_array > 8\n",
    "print(new_array)\n",
    "print('\\n')\n",
    "new_array = np_array[np_array > 8]\n",
    "print(new_array)"
   ]
  },
  {
   "cell_type": "markdown",
   "metadata": {},
   "source": [
    "#### arange()\n",
    "- `range()`와 비슷하지만 넘파이 배열을 생성\n",
    "- `range()`와 `np.array()`를 쓰면 넘파이 배열이 만들어짐\n",
    "  \n",
    "``` python\n",
    "import numpy as np\n",
    "np.arange(start, stop, step)\n",
    "# start : 데이터 생성을 시작할 값 - 생략 시 0으로 처리\n",
    "# stop  : 데이터 생성을 멈출 값으로 생략 불가 - 데이터는 (stop - 1)까지 생성됨\n",
    "# step  : 데이터 생성 간격 : 생략 시 1로 처리\n",
    "```"
   ]
  },
  {
   "cell_type": "code",
   "execution_count": 16,
   "metadata": {},
   "outputs": [
    {
     "name": "stdout",
     "output_type": "stream",
     "text": [
      "[0 1 2 3 4]\n",
      "<class 'numpy.ndarray'>\n",
      "[1 2 3 4 5]\n",
      "<class 'numpy.ndarray'>\n",
      "[1 3 5 7 9]\n",
      "<class 'numpy.ndarray'>\n",
      "[0 2 4]\n",
      "<class 'numpy.ndarray'>\n"
     ]
    }
   ],
   "source": [
    "print(np.arange(5))\n",
    "print(type(np.arange(5)))\n",
    "\n",
    "print(np.arange(1, 6))\n",
    "print(type(np.arange(1, 6)))\n",
    "\n",
    "print(np.arange(1, 10, 2))\n",
    "print(type(np.arange(1, 10, 2)))\n",
    "\n",
    "print(np.arange(0, 5, 2))\n",
    "print(type(np.arange(0, 5, 2)))"
   ]
  },
  {
   "cell_type": "markdown",
   "metadata": {},
   "source": [
    "#### linspace()\n",
    "- `linspace()`는 시작값부터 끝값까지 균일한 간격으로 지정된 개수만큼의 배열 생성\n",
    "  \n",
    "``` python\n",
    "import numpy as np\n",
    "np.linspace(start, stop, num = 50)\n",
    "# start : 데이터 생성을 시작할 값 - 생략 불가\n",
    "# stop  : 데이터 생성을 멈출 값으로 생략 불가 - 데이터는 stop까지 생성됨\n",
    "# step  : 데이터 생성 개수 : 기본은 50\n",
    "```"
   ]
  },
  {
   "cell_type": "code",
   "execution_count": 19,
   "metadata": {},
   "outputs": [
    {
     "name": "stdout",
     "output_type": "stream",
     "text": [
      "[ 0.          1.11111111  2.22222222  3.33333333  4.44444444  5.55555556\n",
      "  6.66666667  7.77777778  8.88888889 10.        ]\n"
     ]
    }
   ],
   "source": [
    "lin_ndarray = np.linspace(0, 10, 10)\n",
    "print(lin_ndarray)"
   ]
  },
  {
   "cell_type": "markdown",
   "metadata": {},
   "source": [
    "### reshape() & flatten()\n",
    "- `reshape()` : 데이터의 개수는 유지한 채로 **배열의 차원과 형태를 변경**\n",
    "- `flatten()` : **평탄화 함수**로 2차원 이상의 고차원 배열을 1차원 배열로 변환"
   ]
  },
  {
   "cell_type": "code",
   "execution_count": 25,
   "metadata": {},
   "outputs": [
    {
     "name": "stdout",
     "output_type": "stream",
     "text": [
      "[[ 0.          1.11111111  2.22222222  3.33333333  4.44444444]\n",
      " [ 5.55555556  6.66666667  7.77777778  8.88888889 10.        ]]\n",
      "[[ 0.          1.11111111]\n",
      " [ 2.22222222  3.33333333]\n",
      " [ 4.44444444  5.55555556]\n",
      " [ 6.66666667  7.77777778]\n",
      " [ 8.88888889 10.        ]]\n",
      "[[ 1.  2.  3.  4.  5.  6.  7.  8.  9. 10. 11. 12.]\n",
      " [13. 14. 15. 16. 17. 18. 19. 20. 21. 22. 23. 24.]]\n",
      "[[ 1.  2.  3.  4.  5.  6.  7.  8.]\n",
      " [ 9. 10. 11. 12. 13. 14. 15. 16.]\n",
      " [17. 18. 19. 20. 21. 22. 23. 24.]]\n",
      "[[ 1.  2.  3.]\n",
      " [ 4.  5.  6.]\n",
      " [ 7.  8.  9.]\n",
      " [10. 11. 12.]\n",
      " [13. 14. 15.]\n",
      " [16. 17. 18.]\n",
      " [19. 20. 21.]\n",
      " [22. 23. 24.]]\n"
     ]
    }
   ],
   "source": [
    "reshaped_lin = lin_ndarray.reshape(2, 5)\n",
    "print(reshaped_lin)\n",
    "reshaped_lin = lin_ndarray.reshape(5, 2)\n",
    "print(reshaped_lin)\n",
    "\n",
    "y = np.linspace(1, 24, 24)\n",
    "reshaped_y = y.reshape(2, -1)\n",
    "print(reshaped_y)\n",
    "reshaped_y = y.reshape(3, -1)\n",
    "print(reshaped_y)\n",
    "reshaped_y = y.reshape(8, -1)\n",
    "print(reshaped_y)               # 인수로 -1을 설정하면 데이터의 수에 맞춰 자동으로 배열의 형태가 결정됨"
   ]
  },
  {
   "cell_type": "code",
   "execution_count": 27,
   "metadata": {},
   "outputs": [
    {
     "name": "stdout",
     "output_type": "stream",
     "text": [
      "[ 1.  2.  3.  4.  5.  6.  7.  8.  9. 10. 11. 12. 13. 14. 15. 16. 17. 18.\n",
      " 19. 20. 21. 22. 23. 24.]\n",
      "<class 'numpy.ndarray'>\n"
     ]
    }
   ],
   "source": [
    "reshaped_y = reshaped_y.flatten()\n",
    "print(reshaped_y)\n",
    "print(type(reshaped_y))"
   ]
  },
  {
   "cell_type": "markdown",
   "metadata": {},
   "source": [
    "### 난수 생성\n",
    "``` python\n",
    "import numpy as np\n",
    "np.random.rand(shape)\n",
    "```"
   ]
  },
  {
   "cell_type": "code",
   "execution_count": 32,
   "metadata": {},
   "outputs": [
    {
     "name": "stdout",
     "output_type": "stream",
     "text": [
      "[0.26802369 0.71988279 0.58781985 0.91852314 0.03678433]\n",
      "[[0.72934441 0.81173456 0.4824769 ]\n",
      " [0.0478863  0.21033707 0.97220555]\n",
      " [0.14124722 0.37123166 0.64935912]\n",
      " [0.36769668 0.19856938 0.77397209]\n",
      " [0.12166211 0.27517835 0.35107847]]\n",
      "[16.89804236 10.01349623 17.36214896 14.52496455 19.96278276 13.08018789\n",
      " 10.46280486 18.84733834 16.82437123 14.98989998]\n"
     ]
    }
   ],
   "source": [
    "rand_nda = np.random.rand(5)\n",
    "print(rand_nda)\n",
    "\n",
    "rand_nda = np.random.rand(5, 3)\n",
    "print(rand_nda)\n",
    "\n",
    "btw10n20 = np.random.rand(10)*10 + 10\n",
    "print(btw10n20)"
   ]
  },
  {
   "cell_type": "code",
   "execution_count": 51,
   "metadata": {},
   "outputs": [
    {
     "name": "stdout",
     "output_type": "stream",
     "text": [
      "[2 3 3 4 7 2 9 7 8 9]\n",
      "[[75 53 21 41 86]\n",
      " [60  2 58 90 97]]\n"
     ]
    }
   ],
   "source": [
    "print(np.random.randint(1, 10, size=10))\n",
    "print(np.random.randint(1, 100, size=(2, 5)))"
   ]
  },
  {
   "cell_type": "markdown",
   "metadata": {},
   "source": [
    "### 정규 분포 난수 생성\n",
    "- 앞에서 생성한 난수(numpy.random.rand())는 균일한 확률 분포로 생성\n",
    "- 확률분포는 평균값에서 가장 높고 평균값에서 멀수록 발생확률이 낮아짐\n",
    "- 표준편차($\\sigma$)가 크면 클수록 데이터의 흩어짐이 크기 때문에 발생 확률이 평평하게 펴진 상태에 접근하게 됨"
   ]
  },
  {
   "cell_type": "code",
   "execution_count": 54,
   "metadata": {},
   "outputs": [
    {
     "name": "stdout",
     "output_type": "stream",
     "text": [
      "[-0.26376685  1.08029117 -1.25402096  1.04475386 -1.17038543]\n",
      "[[-0.39173445 -1.14516053 -1.71201825 -1.07612545]\n",
      " [ 0.51887138  0.87356227 -0.28637291  0.4981881 ]\n",
      " [ 0.7199922   0.42296787  1.25964186  0.56177489]\n",
      " [-0.54805469 -0.49229534  0.08489618 -0.23663014]\n",
      " [-0.57714791 -0.62992673 -0.19845059  0.62646304]]\n"
     ]
    }
   ],
   "source": [
    "print(np.random.randn(5))\n",
    "print(np.random.randn(5, 4))"
   ]
  },
  {
   "cell_type": "code",
   "execution_count": 56,
   "metadata": {},
   "outputs": [
    {
     "name": "stdout",
     "output_type": "stream",
     "text": [
      "[ 7.3238923  10.36415741  9.41418967 10.45362553  9.78989526]\n"
     ]
    }
   ],
   "source": [
    "mu = 10\n",
    "sigma = 1\n",
    "print(mu + sigma*np.random.randn(5))"
   ]
  },
  {
   "cell_type": "markdown",
   "metadata": {},
   "source": [
    "### 평균과 중앙값 계산\n",
    "10000명의 키를 난수로 생성하면서 평균은 175cm이고 표준편차는 10인 정규분포 생성"
   ]
  },
  {
   "cell_type": "code",
   "execution_count": 58,
   "metadata": {},
   "outputs": [
    {
     "name": "stdout",
     "output_type": "stream",
     "text": [
      "[202.03468527 183.51061168 191.27317044 ... 180.41044832 195.18072911\n",
      " 189.80713735]\n",
      "175.03403404548317\n",
      "175.09630976972915\n",
      "102.74534525298986\n"
     ]
    }
   ],
   "source": [
    "m = 175\n",
    "sigma = 10\n",
    "heights = m + sigma*np.random.randn(10000)\n",
    "print(heights)\n",
    "print(np.mean(heights))\n",
    "print(np.median(heights))\n",
    "print(np.var(heights))"
   ]
  }
 ],
 "metadata": {
  "kernelspec": {
   "display_name": "Python 3",
   "language": "python",
   "name": "python3"
  },
  "language_info": {
   "codemirror_mode": {
    "name": "ipython",
    "version": 3
   },
   "file_extension": ".py",
   "mimetype": "text/x-python",
   "name": "python",
   "nbconvert_exporter": "python",
   "pygments_lexer": "ipython3",
   "version": "3.11.4"
  }
 },
 "nbformat": 4,
 "nbformat_minor": 2
}
