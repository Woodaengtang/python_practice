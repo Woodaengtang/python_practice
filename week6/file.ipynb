{
 "cells": [
  {
   "cell_type": "markdown",
   "metadata": {},
   "source": [
    "### 파일 다루기\n",
    "- 컴퓨터 파일 : 컴퓨터의 저장 장치 내에 데이터를 저장하기 위해 사용하는 논리적인 단위\n",
    "- 파일: 하드 디스크hard disk나 외장 디스크external disk 같은 저장 장치에 저장한 후 필요할 때 다시 불러서 사용하는 것이 가능하며, 필요에 따라서 수정하는 것도 가능\n",
    "- 파일에는 여러 종류가 있으며 일반적으로 마침표(.)문자 뒤에 py, txt, doc, hwp, pdf와 같은 확장자를 붙여서 파일의 종류를 구분"
   ]
  },
  {
   "cell_type": "code",
   "execution_count": 1,
   "metadata": {},
   "outputs": [],
   "source": [
    "f = open('hellow.txt', 'w') # 파일을 쓰기 모드로 열기\n",
    "f.write('Hellow World!')    # hellow.txt 파일에 쓰기\n",
    "f.close()                   # 파일 닫기"
   ]
  },
  {
   "cell_type": "markdown",
   "metadata": {},
   "source": [
    "- 이 코드는 open() 이라는 명령을 통해서 ‘hello.txt’ 파일을 열게 되는데 뒤에 나타나는 `w` 인자(=write)에 의해서 파일을 쓰기 모드로 열게 됨\n",
    "- 이렇게 만든 파일 객체 f 는 `f.write()` 명령을 통해서 ‘hello world!’ 라는 문자열을 현재 디렉토리의 hello.txt 라는 파일에 쓰고 모든 작업을 마친 후 `f.close()` 를 통해서 파일쓰기 작업을 종료"
   ]
  },
  {
   "cell_type": "markdown",
   "metadata": {},
   "source": [
    "- `open()` 함수를 사용하여야 하지만 `w`인자가 아닌 `r` 인자를 사용해야 읽기 모드(read mode)로 파일을 읽을 수 있음\n",
    "- 성공적으로 파일 읽기가 완료되면 다음과 같이 파일의 내용을 화면에서 볼 수 있음"
   ]
  },
  {
   "cell_type": "code",
   "execution_count": 2,
   "metadata": {},
   "outputs": [
    {
     "name": "stdout",
     "output_type": "stream",
     "text": [
      "Hellow World!\n"
     ]
    }
   ],
   "source": [
    "f = open('hellow.txt', 'r') # 파일 읽기 모드로 열기\n",
    "s = f.read()                # s에 읽은 값 할당\n",
    "print(s)                    \n",
    "f.close()                   # 파일 닫기"
   ]
  },
  {
   "cell_type": "markdown",
   "metadata": {},
   "source": [
    "- 파일에 여러줄의 내용이 있을 경우 `for`문을 사용할 수 있음"
   ]
  },
  {
   "cell_type": "code",
   "execution_count": null,
   "metadata": {},
   "outputs": [],
   "source": []
  }
 ],
 "metadata": {
  "kernelspec": {
   "display_name": "Python 3",
   "language": "python",
   "name": "python3"
  },
  "language_info": {
   "codemirror_mode": {
    "name": "ipython",
    "version": 3
   },
   "file_extension": ".py",
   "mimetype": "text/x-python",
   "name": "python",
   "nbconvert_exporter": "python",
   "pygments_lexer": "ipython3",
   "version": "3.11.4"
  }
 },
 "nbformat": 4,
 "nbformat_minor": 2
}
